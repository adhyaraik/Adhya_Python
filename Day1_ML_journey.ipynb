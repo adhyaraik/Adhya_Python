{
  "nbformat": 4,
  "nbformat_minor": 0,
  "metadata": {
    "colab": {
      "provenance": []
    },
    "kernelspec": {
      "name": "python3",
      "display_name": "Python 3"
    },
    "language_info": {
      "name": "python"
    }
  },
  "cells": [
    {
      "cell_type": "code",
      "execution_count": null,
      "metadata": {
        "colab": {
          "base_uri": "https://localhost:8080/"
        },
        "id": "HpmbKqI7jltH",
        "outputId": "0ec1bf68-5f68-4ec7-f746-ea081ec8cab5"
      },
      "outputs": [
        {
          "output_type": "stream",
          "name": "stdout",
          "text": [
            "hello world\n"
          ]
        }
      ],
      "source": [
        "print(\"hello world\")"
      ]
    },
    {
      "cell_type": "code",
      "source": [
        "print(\"ML!!!!!\")"
      ],
      "metadata": {
        "id": "34ZbDQBAxLWX",
        "outputId": "80df7098-5c3c-4d0b-a14f-7cbf795f4eb8",
        "colab": {
          "base_uri": "https://localhost:8080/"
        }
      },
      "execution_count": null,
      "outputs": [
        {
          "output_type": "stream",
          "name": "stdout",
          "text": [
            "ML!!!!!\n"
          ]
        }
      ]
    },
    {
      "cell_type": "code",
      "source": [
        "a=100\n",
        "print(id(a))"
      ],
      "metadata": {
        "id": "oDRy5EOQ65Db",
        "outputId": "5c024a2b-1cc5-434f-e717-cdd5bd73f62d",
        "colab": {
          "base_uri": "https://localhost:8080/"
        }
      },
      "execution_count": null,
      "outputs": [
        {
          "output_type": "stream",
          "name": "stdout",
          "text": [
            "10754024\n"
          ]
        }
      ]
    },
    {
      "cell_type": "code",
      "source": [
        "a=100\n",
        "b=100\n",
        "print(a,b)\n",
        "c=20\n",
        "a=c\n",
        "a=print (a)\n",
        "\n"
      ],
      "metadata": {
        "id": "rhFqKvys7PAN",
        "outputId": "11cc7f8a-fb7c-4486-d359-08653378b743",
        "colab": {
          "base_uri": "https://localhost:8080/"
        }
      },
      "execution_count": null,
      "outputs": [
        {
          "output_type": "stream",
          "name": "stdout",
          "text": [
            "100 100\n",
            "20\n"
          ]
        }
      ]
    },
    {
      "cell_type": "code",
      "source": [
        "b=100\n",
        "print(id(b))"
      ],
      "metadata": {
        "id": "T7RI_bAQqpts",
        "outputId": "95ea2f1a-4b76-41d9-85e7-9267c61e8399",
        "colab": {
          "base_uri": "https://localhost:8080/"
        }
      },
      "execution_count": null,
      "outputs": [
        {
          "output_type": "stream",
          "name": "stdout",
          "text": [
            "10754024\n"
          ]
        }
      ]
    },
    {
      "cell_type": "code",
      "source": [
        "a=500\n",
        "print(id(a))"
      ],
      "metadata": {
        "id": "BjEMqyPZ7RZA",
        "outputId": "dfc21282-831e-4e53-9ac2-fecb836b414b",
        "colab": {
          "base_uri": "https://localhost:8080/"
        }
      },
      "execution_count": null,
      "outputs": [
        {
          "output_type": "stream",
          "name": "stdout",
          "text": [
            "133524575191472\n"
          ]
        }
      ]
    },
    {
      "cell_type": "code",
      "source": [
        "b=a\n",
        "print(id(b))"
      ],
      "metadata": {
        "id": "Ai4-xUmo7W1Y",
        "outputId": "7f01f63c-87e5-4d6e-d7e7-edf4912f8453",
        "colab": {
          "base_uri": "https://localhost:8080/"
        }
      },
      "execution_count": null,
      "outputs": [
        {
          "output_type": "stream",
          "name": "stdout",
          "text": [
            "133524575191472\n"
          ]
        }
      ]
    },
    {
      "cell_type": "code",
      "source": [
        "a,b,c=10,20,30\n",
        "print(a)\n",
        "print(a,b,c)"
      ],
      "metadata": {
        "id": "IWlQ5BKe7uzg",
        "outputId": "95a2223b-1d1d-4286-9f8b-b475bb3a9b23",
        "colab": {
          "base_uri": "https://localhost:8080/"
        }
      },
      "execution_count": null,
      "outputs": [
        {
          "output_type": "stream",
          "name": "stdout",
          "text": [
            "10\n",
            "10 20 30\n"
          ]
        }
      ]
    },
    {
      "cell_type": "code",
      "source": [
        "a=b=c=10\n",
        "print(a,b,c)"
      ],
      "metadata": {
        "id": "Ejw50XXH7-zW",
        "outputId": "4c5c7839-1fc0-49dd-e286-ec8eb374a440",
        "colab": {
          "base_uri": "https://localhost:8080/"
        }
      },
      "execution_count": null,
      "outputs": [
        {
          "output_type": "stream",
          "name": "stdout",
          "text": [
            "10 10 10\n"
          ]
        }
      ]
    },
    {
      "cell_type": "code",
      "source": [
        "import keyword as ky\n",
        "print(ky.kwlist) #It will list all the keywords in python"
      ],
      "metadata": {
        "id": "BGS8gJEa80Je",
        "outputId": "af4a60b4-09cc-4ed1-de88-c93b48c65ebc",
        "colab": {
          "base_uri": "https://localhost:8080/"
        }
      },
      "execution_count": null,
      "outputs": [
        {
          "output_type": "stream",
          "name": "stdout",
          "text": [
            "['False', 'None', 'True', 'and', 'as', 'assert', 'async', 'await', 'break', 'class', 'continue', 'def', 'del', 'elif', 'else', 'except', 'finally', 'for', 'from', 'global', 'if', 'import', 'in', 'is', 'lambda', 'nonlocal', 'not', 'or', 'pass', 'raise', 'return', 'try', 'while', 'with', 'yield']\n"
          ]
        }
      ]
    },
    {
      "cell_type": "code",
      "source": [
        "#multiline comment\n",
        "\"\"\" aaaa\n",
        "dddd\n",
        "dddd\"\"\"\n",
        "a=100\n",
        "print('Adhya Please concentrate!!!')"
      ],
      "metadata": {
        "id": "mAVOAaWI-9YR",
        "outputId": "542dff97-8f78-4192-b088-e2c6b0e95c48",
        "colab": {
          "base_uri": "https://localhost:8080/"
        }
      },
      "execution_count": null,
      "outputs": [
        {
          "output_type": "stream",
          "name": "stdout",
          "text": [
            "Adhya Please concentrate!!!\n"
          ]
        }
      ]
    },
    {
      "cell_type": "code",
      "source": [
        "\n",
        "p='NTT'\n",
        "print (p)\n",
        "a=\"Data\"\n",
        "print(p,a)\n"
      ],
      "metadata": {
        "id": "roSDoyciIjj4",
        "outputId": "bd77a32f-be5b-48c1-d054-54309c507b15",
        "colab": {
          "base_uri": "https://localhost:8080/"
        }
      },
      "execution_count": null,
      "outputs": [
        {
          "output_type": "stream",
          "name": "stdout",
          "text": [
            "NTT\n",
            "NTT Data\n"
          ]
        }
      ]
    },
    {
      "cell_type": "code",
      "source": [
        "#multine line string\n",
        "p=\"\"\"aaaa\n",
        "bbb\n",
        "ccc\n",
        "ddd \"\"\"\n",
        "print (p)"
      ],
      "metadata": {
        "id": "n4GQMZnYJufv",
        "outputId": "a178064f-bb7b-4be4-f8e0-194c2d1a355b",
        "colab": {
          "base_uri": "https://localhost:8080/"
        }
      },
      "execution_count": null,
      "outputs": [
        {
          "output_type": "stream",
          "name": "stdout",
          "text": [
            "aaaa\n",
            "bbb\n",
            "ccc\n",
            "ddd \n"
          ]
        }
      ]
    },
    {
      "cell_type": "code",
      "source": [
        "p=\"NTT Data\"\n",
        "print(p[0])\n",
        "print(p[-1])"
      ],
      "metadata": {
        "id": "xPW2iRUZKXfP",
        "outputId": "ad25f7b2-5558-49a8-e92a-6af060763eaa",
        "colab": {
          "base_uri": "https://localhost:8080/"
        }
      },
      "execution_count": null,
      "outputs": [
        {
          "output_type": "stream",
          "name": "stdout",
          "text": [
            "N\n",
            "a\n"
          ]
        }
      ]
    },
    {
      "cell_type": "code",
      "source": [
        "p=\"NTT Data\"\n",
        "print(p[0])\n"
      ],
      "metadata": {
        "id": "KLFXZDrOQbXm",
        "outputId": "6f02c980-45cf-4d31-bd64-fea32162fad4",
        "colab": {
          "base_uri": "https://localhost:8080/"
        }
      },
      "execution_count": null,
      "outputs": [
        {
          "output_type": "stream",
          "name": "stdout",
          "text": [
            "N\n"
          ]
        }
      ]
    },
    {
      "cell_type": "code",
      "source": [
        "# simple  If startement\n",
        "\n",
        "if 10>15:\n",
        "\n",
        "  print(\"start of if\")\n",
        "  print(\"10 is greater\")\n",
        "  print(\"end of if\")\n",
        "  print(\"HI\")\n",
        "\n",
        "\n",
        "print(\"end of program\")"
      ],
      "metadata": {
        "colab": {
          "base_uri": "https://localhost:8080/"
        },
        "id": "8DXZ2A3m8zrJ",
        "outputId": "f98ec689-c1f9-418a-aed4-898a018e3e73"
      },
      "execution_count": null,
      "outputs": [
        {
          "output_type": "stream",
          "name": "stdout",
          "text": [
            "end of program\n"
          ]
        }
      ]
    },
    {
      "cell_type": "code",
      "source": [
        "# input function\n",
        "\n",
        "a = input(\"Enter a value\") # input fn reatuns all the values in string format\n",
        "print(a)\n",
        "print(type(a))\n"
      ],
      "metadata": {
        "colab": {
          "base_uri": "https://localhost:8080/"
        },
        "id": "We8OlwkW9P-x",
        "outputId": "d2245316-422c-412f-eb4c-eaa8a1caa894"
      },
      "execution_count": null,
      "outputs": [
        {
          "output_type": "stream",
          "name": "stdout",
          "text": [
            "Enter a value10\n",
            "10\n",
            "<class 'str'>\n"
          ]
        }
      ]
    },
    {
      "cell_type": "code",
      "source": [
        "# input function with type casting\n",
        "\n",
        "a = int(input(\"Enter a value\")) # input fn reatuns all the values in string format\n",
        "print(a)\n",
        "print(type(a))"
      ],
      "metadata": {
        "colab": {
          "base_uri": "https://localhost:8080/"
        },
        "id": "qWQirfCE9TDx",
        "outputId": "74534cf6-6c1b-4593-d6bc-e5a8e921cc3c"
      },
      "execution_count": null,
      "outputs": [
        {
          "output_type": "stream",
          "name": "stdout",
          "text": [
            "Enter a value8\n",
            "8\n",
            "<class 'int'>\n"
          ]
        }
      ]
    },
    {
      "cell_type": "code",
      "source": [
        "# if else statement\n",
        "\n",
        "a = int(input(\"Enter a value\"))\n",
        "b = int(input(\"Enter b value\"))\n",
        "\n",
        "if a>b:\n",
        "  print(\"a is greater\")\n",
        "  print(\"if block\")\n",
        "else:\n",
        "  print(\"b is greater\")\n",
        "  print(\"else block\")"
      ],
      "metadata": {
        "colab": {
          "base_uri": "https://localhost:8080/"
        },
        "id": "ZQwauGjq9Klo",
        "outputId": "61a6491c-a39a-47b7-92eb-716fe0156e4d"
      },
      "execution_count": null,
      "outputs": [
        {
          "output_type": "stream",
          "name": "stdout",
          "text": [
            "Enter a value6\n",
            "Enter b value9\n",
            "b is greater\n",
            "else block\n"
          ]
        }
      ]
    },
    {
      "cell_type": "code",
      "source": [
        "# if else ladder\n",
        "\n",
        "s = input(\"enetr a color\")\n",
        "\n",
        "if s == \"red\":\n",
        "  print(\"stop\")\n",
        "elif s == \"yellow\":\n",
        "  print(\"ready\")\n",
        "elif s == \"green\":\n",
        "  print(\"go\")\n",
        "else:\n",
        "  print(\"invalid color\")"
      ],
      "metadata": {
        "colab": {
          "base_uri": "https://localhost:8080/"
        },
        "id": "Jp1bpCd89dqk",
        "outputId": "6844154b-921a-4d58-b101-a62dca376fb7"
      },
      "execution_count": null,
      "outputs": [
        {
          "output_type": "stream",
          "name": "stdout",
          "text": [
            "enetr a colorred\n",
            "stop\n"
          ]
        }
      ]
    },
    {
      "cell_type": "code",
      "source": [
        "text = input(\"enter a string\")  # program to check the palindrome\n",
        "text = text.lower()\n",
        "\n",
        "revtext = text[::-1]\n",
        "\n",
        "if text == revtext:\n",
        "  print(\"Palindrome\")\n",
        "else:\n",
        "  print(\"Not Palindrome\")"
      ],
      "metadata": {
        "colab": {
          "base_uri": "https://localhost:8080/"
        },
        "id": "PEBbW7PY9iKL",
        "outputId": "01acd7f0-ecea-44fc-a247-73347ab89830"
      },
      "execution_count": null,
      "outputs": [
        {
          "output_type": "stream",
          "name": "stdout",
          "text": [
            "enter a stringmaam\n",
            "Palindrome\n"
          ]
        }
      ]
    },
    {
      "cell_type": "code",
      "source": [
        "# while loop\n",
        "\n",
        "i=10\n",
        "\n",
        "while i<15 :\n",
        "  print(i)\n",
        "  i=i+1\n",
        "\n",
        "print(\"end of while\")\n"
      ],
      "metadata": {
        "colab": {
          "base_uri": "https://localhost:8080/"
        },
        "id": "khJxviTQ9nbq",
        "outputId": "a2026cab-d18e-4c9f-af03-d3f097019347"
      },
      "execution_count": null,
      "outputs": [
        {
          "output_type": "stream",
          "name": "stdout",
          "text": [
            "10\n",
            "11\n",
            "12\n",
            "13\n",
            "14\n",
            "end of while\n"
          ]
        }
      ]
    },
    {
      "cell_type": "code",
      "source": [
        "# Multiplication Table\n",
        "\n",
        "num = int(input(\"Enter a number\"))\n",
        "\n",
        "i=1\n",
        "\n",
        "while i<=10:\n",
        "  print(num , \"*\" , i , \"=\" ,i*num)\n",
        "  i=i+1"
      ],
      "metadata": {
        "colab": {
          "base_uri": "https://localhost:8080/"
        },
        "id": "UAJEXIPE9q3_",
        "outputId": "3f676a36-7003-42c8-a685-67cea5fb4428"
      },
      "execution_count": null,
      "outputs": [
        {
          "output_type": "stream",
          "name": "stdout",
          "text": [
            "Enter a number5\n",
            "5 * 1 = 5\n",
            "5 * 2 = 10\n",
            "5 * 3 = 15\n",
            "5 * 4 = 20\n",
            "5 * 5 = 25\n",
            "5 * 6 = 30\n",
            "5 * 7 = 35\n",
            "5 * 8 = 40\n",
            "5 * 9 = 45\n",
            "5 * 10 = 50\n"
          ]
        }
      ]
    },
    {
      "cell_type": "code",
      "source": [
        "# For loop\n",
        "\n",
        "s = \"2025John\"\n",
        "\n",
        "for i in s:\n",
        "  print(i)\n",
        "  print(type(i))"
      ],
      "metadata": {
        "colab": {
          "base_uri": "https://localhost:8080/"
        },
        "id": "xmcV8UDE9u_n",
        "outputId": "60437c1b-c5c7-49d3-a7f8-2272db0e2b36"
      },
      "execution_count": null,
      "outputs": [
        {
          "output_type": "stream",
          "name": "stdout",
          "text": [
            "2\n",
            "<class 'str'>\n",
            "0\n",
            "<class 'str'>\n",
            "2\n",
            "<class 'str'>\n",
            "5\n",
            "<class 'str'>\n",
            "J\n",
            "<class 'str'>\n",
            "o\n",
            "<class 'str'>\n",
            "h\n",
            "<class 'str'>\n",
            "n\n",
            "<class 'str'>\n"
          ]
        }
      ]
    },
    {
      "cell_type": "code",
      "source": [
        "#range function\n",
        "\n",
        "for i in range(0,11,1):\n",
        "  print(i)"
      ],
      "metadata": {
        "colab": {
          "base_uri": "https://localhost:8080/"
        },
        "id": "T9Ip7MJc-rX4",
        "outputId": "988a2d3b-df36-4786-8750-c48556b08c1f"
      },
      "execution_count": null,
      "outputs": [
        {
          "output_type": "stream",
          "name": "stdout",
          "text": [
            "0\n",
            "1\n",
            "2\n",
            "3\n",
            "4\n",
            "5\n",
            "6\n",
            "7\n",
            "8\n",
            "9\n",
            "10\n"
          ]
        }
      ]
    },
    {
      "cell_type": "code",
      "source": [
        "for i in range(0,11,2):\n",
        "  print(i)"
      ],
      "metadata": {
        "colab": {
          "base_uri": "https://localhost:8080/"
        },
        "id": "yV_FWND8-2og",
        "outputId": "725fa8ee-15b2-4377-83b3-42eba60e61f2"
      },
      "execution_count": null,
      "outputs": [
        {
          "output_type": "stream",
          "name": "stdout",
          "text": [
            "0\n",
            "2\n",
            "4\n",
            "6\n",
            "8\n",
            "10\n"
          ]
        }
      ]
    },
    {
      "cell_type": "code",
      "source": [
        "str1='Adhya'\n",
        "str2='Rai'\n",
        "str3=str1+str2\n",
        "print(str3)\n",
        "str4=str2*4\n",
        "print(str4)"
      ],
      "metadata": {
        "colab": {
          "base_uri": "https://localhost:8080/"
        },
        "id": "_F5I8hIyADpT",
        "outputId": "16b1d192-01fb-4b3b-c92e-d1354d12fa40"
      },
      "execution_count": null,
      "outputs": [
        {
          "output_type": "stream",
          "name": "stdout",
          "text": [
            "AdhyaRai\n",
            "RaiRaiRaiRai\n"
          ]
        }
      ]
    },
    {
      "cell_type": "code",
      "source": [
        "St1='Adhya'\n",
        "St1[1]='D'\n",
        "print(St1) #string is immutable"
      ],
      "metadata": {
        "colab": {
          "base_uri": "https://localhost:8080/",
          "height": 176
        },
        "id": "XOIGBHlqBEJs",
        "outputId": "328ab027-354b-406f-b53c-e10f434c6865"
      },
      "execution_count": null,
      "outputs": [
        {
          "output_type": "error",
          "ename": "TypeError",
          "evalue": "'str' object does not support item assignment",
          "traceback": [
            "\u001b[0;31m---------------------------------------------------------------------------\u001b[0m",
            "\u001b[0;31mTypeError\u001b[0m                                 Traceback (most recent call last)",
            "\u001b[0;32m<ipython-input-13-a24461edff22>\u001b[0m in \u001b[0;36m<cell line: 0>\u001b[0;34m()\u001b[0m\n\u001b[1;32m      1\u001b[0m \u001b[0mSt1\u001b[0m\u001b[0;34m=\u001b[0m\u001b[0;34m'Adhya'\u001b[0m\u001b[0;34m\u001b[0m\u001b[0;34m\u001b[0m\u001b[0m\n\u001b[0;32m----> 2\u001b[0;31m \u001b[0mSt1\u001b[0m\u001b[0;34m[\u001b[0m\u001b[0;36m1\u001b[0m\u001b[0;34m]\u001b[0m\u001b[0;34m=\u001b[0m\u001b[0;34m'D'\u001b[0m\u001b[0;34m\u001b[0m\u001b[0;34m\u001b[0m\u001b[0m\n\u001b[0m\u001b[1;32m      3\u001b[0m \u001b[0mprint\u001b[0m\u001b[0;34m(\u001b[0m\u001b[0mSt1\u001b[0m\u001b[0;34m)\u001b[0m\u001b[0;34m\u001b[0m\u001b[0;34m\u001b[0m\u001b[0m\n",
            "\u001b[0;31mTypeError\u001b[0m: 'str' object does not support item assignment"
          ]
        }
      ]
    },
    {
      "cell_type": "code",
      "source": [
        "S='Adhya'\n",
        "del(S)\n",
        "print(S)"
      ],
      "metadata": {
        "colab": {
          "base_uri": "https://localhost:8080/",
          "height": 176
        },
        "id": "s_HwmJfcBQ1s",
        "outputId": "218b8478-faec-47b6-89e8-72104afb960d"
      },
      "execution_count": null,
      "outputs": [
        {
          "output_type": "error",
          "ename": "NameError",
          "evalue": "name 'S' is not defined",
          "traceback": [
            "\u001b[0;31m---------------------------------------------------------------------------\u001b[0m",
            "\u001b[0;31mNameError\u001b[0m                                 Traceback (most recent call last)",
            "\u001b[0;32m<ipython-input-14-3242670a26aa>\u001b[0m in \u001b[0;36m<cell line: 0>\u001b[0;34m()\u001b[0m\n\u001b[1;32m      1\u001b[0m \u001b[0mS\u001b[0m\u001b[0;34m=\u001b[0m\u001b[0;34m'Adhya'\u001b[0m\u001b[0;34m\u001b[0m\u001b[0;34m\u001b[0m\u001b[0m\n\u001b[1;32m      2\u001b[0m \u001b[0;32mdel\u001b[0m\u001b[0;34m(\u001b[0m\u001b[0mS\u001b[0m\u001b[0;34m)\u001b[0m\u001b[0;34m\u001b[0m\u001b[0;34m\u001b[0m\u001b[0m\n\u001b[0;32m----> 3\u001b[0;31m \u001b[0mprint\u001b[0m\u001b[0;34m(\u001b[0m\u001b[0mS\u001b[0m\u001b[0;34m)\u001b[0m\u001b[0;34m\u001b[0m\u001b[0;34m\u001b[0m\u001b[0m\n\u001b[0m",
            "\u001b[0;31mNameError\u001b[0m: name 'S' is not defined"
          ]
        }
      ]
    },
    {
      "cell_type": "code",
      "source": [
        "#length of the string\n",
        "s='Adhya'\n",
        "c=0\n",
        "for i in s:\n",
        "  c+=1\n",
        "print('length of the string',c)\n",
        "#using length function\n",
        "p='Rai'\n",
        "print('Length of the second string ',len(p))\n",
        "\n"
      ],
      "metadata": {
        "colab": {
          "base_uri": "https://localhost:8080/"
        },
        "id": "GYznD7-aBtwZ",
        "outputId": "1102b1c1-9f44-4b96-a45d-e77246cf1451"
      },
      "execution_count": null,
      "outputs": [
        {
          "output_type": "stream",
          "name": "stdout",
          "text": [
            "length of the string 5\n",
            "Length of the second string  3\n"
          ]
        }
      ]
    },
    {
      "cell_type": "code",
      "source": [
        "#membership operator\n",
        "s='appple'\n",
        "if 'e' in s:\n",
        "  print('e is present')\n",
        "else:\n",
        "  print('e is not present')"
      ],
      "metadata": {
        "colab": {
          "base_uri": "https://localhost:8080/"
        },
        "id": "F6J6ItjjCkhq",
        "outputId": "a5634f04-ba7c-42ef-a871-d161ee4a82e9"
      },
      "execution_count": null,
      "outputs": [
        {
          "output_type": "stream",
          "name": "stdout",
          "text": [
            "e is present\n"
          ]
        }
      ]
    },
    {
      "cell_type": "code",
      "source": [
        "#count\n",
        "main_string=input('Enter main string')\n",
        "sub_string=input('enter substring')\n",
        "c=main_string.count(sub_string)\n",
        "print(c)\n",
        "d=main_string.count(sub_string,0,15)\n",
        "print(d)"
      ],
      "metadata": {
        "colab": {
          "base_uri": "https://localhost:8080/"
        },
        "id": "M4_PZnqKD1Uj",
        "outputId": "89724be4-2a5d-49ab-e21d-89d2e0febc10"
      },
      "execution_count": null,
      "outputs": [
        {
          "output_type": "stream",
          "name": "stdout",
          "text": [
            "Enter main stringAdhya is the good girl\n",
            "enter substringg\n",
            "2\n",
            "1\n"
          ]
        }
      ]
    },
    {
      "cell_type": "code",
      "source": [
        "#startswith and endswith\n",
        "mb_num=input(\"Enter mobile number\")\n",
        "if mb_num.startswith('+91'):\n",
        "  print('India')\n",
        "elif mb_num.startswith('+1'):\n",
        "  print('USA')\n",
        "else:\n",
        "  print(\"Arab\")\n",
        "mail_id=input('Enter your gmail id')\n",
        "if mail_id.endswith('.com'):\n",
        "  print('valid email id')\n",
        "else:\n",
        "  print('invalid email id')"
      ],
      "metadata": {
        "colab": {
          "base_uri": "https://localhost:8080/"
        },
        "id": "WECyJrNwE_B5",
        "outputId": "1bf37982-4a07-4d63-ca91-b4443502e9c8"
      },
      "execution_count": null,
      "outputs": [
        {
          "output_type": "stream",
          "name": "stdout",
          "text": [
            "Enter mobile number+919999\n",
            "India\n",
            "Enter your gmail idadhya.com\n",
            "valid email id\n"
          ]
        }
      ]
    },
    {
      "cell_type": "code",
      "source": [
        "#lstrip\n",
        "name=input(\"Enter your name\")\n",
        "print(name)\n",
        "name=name.lstrip()\n",
        "print(name)"
      ],
      "metadata": {
        "id": "O-pOd-27HmK6",
        "outputId": "ee39b8c5-c973-4f13-d826-b5a738a74b8c",
        "colab": {
          "base_uri": "https://localhost:8080/"
        }
      },
      "execution_count": null,
      "outputs": [
        {
          "output_type": "stream",
          "name": "stdout",
          "text": [
            "Enter your name       Adhya\n",
            "       Adhya\n",
            "Adhya\n"
          ]
        }
      ]
    },
    {
      "cell_type": "code",
      "source": [
        "name=['https.AdhyaRai','htpsRai.Ayush','httpsRai.Anvitha']\n",
        "for i in name:\n",
        " i=i.lstrip('htps')\n",
        " print(i)"
      ],
      "metadata": {
        "id": "96kUYtjQInNU",
        "outputId": "a5c6b3a8-2ba1-4b74-e1b1-e66d33b95c23",
        "colab": {
          "base_uri": "https://localhost:8080/"
        }
      },
      "execution_count": null,
      "outputs": [
        {
          "output_type": "stream",
          "name": "stdout",
          "text": [
            ".AdhyaRai\n",
            "Rai.Ayush\n",
            "Rai.Anvitha\n"
          ]
        }
      ]
    },
    {
      "cell_type": "code",
      "source": [
        "name=[\"adhya\",\"aaaadhya\",\"aaaaaadhya\"]\n",
        "for i in name:\n",
        " i=i.lstrip(\"adh\")\n",
        " print(i)"
      ],
      "metadata": {
        "id": "Ges0Q_ViLP7U",
        "outputId": "b70d1e93-30fc-42d3-d97c-0dec20abecef",
        "colab": {
          "base_uri": "https://localhost:8080/"
        }
      },
      "execution_count": null,
      "outputs": [
        {
          "output_type": "stream",
          "name": "stdout",
          "text": [
            "ya\n",
            "ya\n",
            "ya\n"
          ]
        }
      ]
    },
    {
      "cell_type": "code",
      "source": [
        "url=[\"https://www.adhya.comhtp\",\"http://www.ajio.com\"]\n",
        "for i in url:\n",
        "  i=i.lstrip(\"https://www.\")\n",
        "  print(i)"
      ],
      "metadata": {
        "id": "Pm6oKWDXL9j7",
        "outputId": "3e1a8d99-4576-4d57-a5f7-aae50e2c88e4",
        "colab": {
          "base_uri": "https://localhost:8080/"
        }
      },
      "execution_count": null,
      "outputs": [
        {
          "output_type": "stream",
          "name": "stdout",
          "text": [
            "adhya.comhtp\n",
            "ajio.com\n"
          ]
        }
      ]
    },
    {
      "cell_type": "code",
      "source": [
        "url=[\"https://www.adhya.comhtp\",\"http://www.ajio.com\"]\n",
        "for i in url:\n",
        "  i=i.rstrip(\"htp.com\")\n",
        "  print(i)"
      ],
      "metadata": {
        "id": "lc_fr54zMYg3",
        "outputId": "90871a26-7f13-4349-ac8a-4ad580c5656c",
        "colab": {
          "base_uri": "https://localhost:8080/"
        }
      },
      "execution_count": null,
      "outputs": [
        {
          "output_type": "stream",
          "name": "stdout",
          "text": [
            "https://www.adhya\n",
            "http://www.aji\n"
          ]
        }
      ]
    },
    {
      "cell_type": "code",
      "source": [
        "url=[\"https://www.adhya.comhtp\",\"http://www.ajio.com\"]\n",
        "for i in url:\n",
        "  i=i.strip(\"htp.com\")\n",
        "  print(i)"
      ],
      "metadata": {
        "id": "rIA8fKbuOAKM",
        "outputId": "0f670b79-ddbe-4762-deff-4f1afdd139cc",
        "colab": {
          "base_uri": "https://localhost:8080/"
        }
      },
      "execution_count": null,
      "outputs": [
        {
          "output_type": "stream",
          "name": "stdout",
          "text": [
            "s://www.adhya\n",
            "://www.aji\n"
          ]
        }
      ]
    },
    {
      "cell_type": "code",
      "source": [],
      "metadata": {
        "id": "HISZA6mzR5VZ"
      },
      "execution_count": null,
      "outputs": []
    },
    {
      "cell_type": "code",
      "source": [],
      "metadata": {
        "id": "9o2vY_mdR5tL"
      },
      "execution_count": null,
      "outputs": []
    },
    {
      "cell_type": "code",
      "source": [
        "#replace\n",
        "name=\"Adhya is the good girl, she is good at coding\"\n",
        "replace_string=\"GOOD\"\n",
        "new_string=name.replace(\"good\",\"GOOD\")\n",
        "print(new_string)\n",
        "new_string2=name.replace(\"good\",\"beautiful\",1)\n",
        "print(new_string2)\n"
      ],
      "metadata": {
        "id": "WE9rzf7RR5-b",
        "outputId": "58a0df4b-9553-477f-9816-9b3518b7f0f6",
        "colab": {
          "base_uri": "https://localhost:8080/"
        }
      },
      "execution_count": null,
      "outputs": [
        {
          "output_type": "stream",
          "name": "stdout",
          "text": [
            "Adhya is the GOOD girl, she is GOOD at coding\n",
            "Adhya is the beautiful girl, she is good at coding\n"
          ]
        }
      ]
    },
    {
      "cell_type": "code",
      "source": [
        "#find\n",
        "name=\"Adhya is the good girl, she is good at coding\"\n",
        "print(name.find(\"good\"))\n",
        "print(name.find(\"good\",0,15))\n"
      ],
      "metadata": {
        "id": "JRc53gA5Sy0R",
        "outputId": "cb2cd95a-0703-49ad-8186-c631b5579821",
        "colab": {
          "base_uri": "https://localhost:8080/"
        }
      },
      "execution_count": null,
      "outputs": [
        {
          "output_type": "stream",
          "name": "stdout",
          "text": [
            "13\n",
            "-1\n"
          ]
        }
      ]
    },
    {
      "cell_type": "code",
      "source": [
        "name=input(\"Enter a sentence\")\n",
        "k=name.split()\n",
        "print(k)\n",
        "c=0\n",
        "for i in k:\n",
        "  if i==\"mumbai\":\n",
        "   c=c+1\n",
        "print(c)\n",
        "\n",
        "w=\"adhya,girl,class\"\n",
        "z=w.split(\",\")\n",
        "print(z)\n",
        "\n",
        "\n",
        "\n",
        "\n"
      ],
      "metadata": {
        "id": "T6BNkGIOUXEP",
        "outputId": "98a6801a-8462-4fae-98e2-d1698056f43a",
        "colab": {
          "base_uri": "https://localhost:8080/"
        }
      },
      "execution_count": null,
      "outputs": [
        {
          "output_type": "stream",
          "name": "stdout",
          "text": [
            "Enter a sentenceadhya mumbaiu adhya mumbai mumbai mumbai\n",
            "['adhya', 'mumbaiu', 'adhya', 'mumbai', 'mumbai', 'mumbai']\n",
            "3\n",
            "['adhya', 'girl', 'class']\n"
          ]
        }
      ]
    },
    {
      "cell_type": "code",
      "source": [
        "#list\n",
        "\n",
        "l1=[10,30,'NTTdata',[10,20,30]]\n",
        "print(l1[3],l1[-1])\n",
        "print(type(l1))\n",
        "print(l1[0:4:2])"
      ],
      "metadata": {
        "id": "lHd9PfNSxBiD",
        "outputId": "f7a2be5b-f297-4b29-b74b-349093e33e96",
        "colab": {
          "base_uri": "https://localhost:8080/"
        }
      },
      "execution_count": null,
      "outputs": [
        {
          "output_type": "stream",
          "name": "stdout",
          "text": [
            "[10, 20, 30] [10, 20, 30]\n",
            "<class 'list'>\n",
            "[10, 'NTTdata']\n"
          ]
        }
      ]
    },
    {
      "cell_type": "code",
      "source": [
        "#concat\n",
        "l1=[10,20,30]\n",
        "l2=[12,30,14]\n",
        "l3=l1+l2\n",
        "print(l3)\n",
        "\n",
        "#multiplication\n",
        "l4=l1*5\n",
        "print(l4)\n",
        "\n",
        "#iteration\n",
        "for i in [10,20,30,40]:\n",
        "  print(i+5)\n",
        "\n",
        "#membership\n",
        "print(100 in[10,50,30])\n",
        "print(100 in[100,50,30])"
      ],
      "metadata": {
        "id": "9brJYhxM1Cul",
        "outputId": "b7e4e973-7a1c-434b-d589-35568638beed",
        "colab": {
          "base_uri": "https://localhost:8080/"
        }
      },
      "execution_count": null,
      "outputs": [
        {
          "output_type": "stream",
          "name": "stdout",
          "text": [
            "[10, 20, 30, 12, 30, 14]\n",
            "[10, 20, 30, 10, 20, 30, 10, 20, 30, 10, 20, 30, 10, 20, 30]\n",
            "15\n",
            "25\n",
            "35\n",
            "45\n",
            "False\n",
            "True\n"
          ]
        }
      ]
    },
    {
      "cell_type": "code",
      "source": [
        "#inbuilt func\n",
        "#max\n",
        "l1=[10,20,30]\n",
        "print(max(l1))\n",
        "l2=['aaa','bbbb','ccc']\n",
        "print(max(l2))\n",
        "\n",
        "l3=['aaa','bbbb','ccc']\n",
        "print(max(l3,key=len))\n"
      ],
      "metadata": {
        "id": "P-bxXe275KOr",
        "outputId": "fe51d2a1-411f-45e8-912d-33b9e65ebf66",
        "colab": {
          "base_uri": "https://localhost:8080/"
        }
      },
      "execution_count": null,
      "outputs": [
        {
          "output_type": "stream",
          "name": "stdout",
          "text": [
            "30\n",
            "ccc\n",
            "bbbb\n"
          ]
        }
      ]
    },
    {
      "cell_type": "code",
      "source": [
        "#append\n",
        "l1=[10,20,30]\n",
        "l1.append(100)\n",
        "print(l1)"
      ],
      "metadata": {
        "id": "HbjiQeuW7tmX",
        "outputId": "91b450b3-c2c2-4c2a-ffc1-f814e491f71c",
        "colab": {
          "base_uri": "https://localhost:8080/"
        }
      },
      "execution_count": null,
      "outputs": [
        {
          "output_type": "stream",
          "name": "stdout",
          "text": [
            "[10, 20, 30, 100]\n"
          ]
        }
      ]
    },
    {
      "cell_type": "code",
      "source": [
        "l1=[10,20,30]\n",
        "\n",
        "for i in range(6):\n",
        "   l2=int(input(\"Enter a number\"))\n",
        "   l1.append(l2)\n",
        "\n",
        "print(l1)"
      ],
      "metadata": {
        "id": "VlxgTpB770jE",
        "outputId": "80e44bee-8878-4cdb-8f16-03401b79ab18",
        "colab": {
          "base_uri": "https://localhost:8080/"
        }
      },
      "execution_count": null,
      "outputs": [
        {
          "output_type": "stream",
          "name": "stdout",
          "text": [
            "Enter a number10\n",
            "Enter a number20\n",
            "Enter a number30\n",
            "Enter a number88\n",
            "Enter a number99\n",
            "Enter a number99\n",
            "[10, 20, 30, 10, 20, 30, 88, 99, 99]\n"
          ]
        }
      ]
    },
    {
      "cell_type": "code",
      "source": [
        "#extend\n",
        "l1=[10,20,30]\n",
        "l2=[100,200,300]\n",
        "l1.extend(l2)\n",
        "print(l1)"
      ],
      "metadata": {
        "id": "-F_FjJjr97ZW",
        "outputId": "6ae4d2f9-ed5c-4fa2-9cdd-30b8666d29de",
        "colab": {
          "base_uri": "https://localhost:8080/"
        }
      },
      "execution_count": null,
      "outputs": [
        {
          "output_type": "stream",
          "name": "stdout",
          "text": [
            "[10, 20, 30, 100, 200, 300]\n"
          ]
        }
      ]
    },
    {
      "cell_type": "code",
      "source": [
        "#insert\n",
        "l1=[10,20,30]\n",
        "l1.insert(1,100)\n",
        "print(l1)"
      ],
      "metadata": {
        "id": "_smNJMyJ_Mi2",
        "outputId": "b35d1e58-2921-4b38-d506-54c76f1a3c43",
        "colab": {
          "base_uri": "https://localhost:8080/"
        }
      },
      "execution_count": null,
      "outputs": [
        {
          "output_type": "stream",
          "name": "stdout",
          "text": [
            "[10, 100, 20, 30]\n"
          ]
        }
      ]
    },
    {
      "cell_type": "code",
      "source": [
        "#remove\n",
        "l1=[10,20,30]\n",
        "l1.remove(10)\n",
        "print(l1)"
      ],
      "metadata": {
        "id": "iHnidetA_WZV",
        "outputId": "934195ec-7a43-4c5f-d963-9ca74646eecc",
        "colab": {
          "base_uri": "https://localhost:8080/"
        }
      },
      "execution_count": null,
      "outputs": [
        {
          "output_type": "stream",
          "name": "stdout",
          "text": [
            "[20, 30]\n"
          ]
        }
      ]
    },
    {
      "cell_type": "code",
      "source": [
        "#pop\n",
        "l1=[10,20,30]\n",
        "l2=l1.pop()\n",
        "print(l2)\n",
        "print(l1)\n"
      ],
      "metadata": {
        "id": "hi88xYvH_yIG",
        "outputId": "9a768abe-b2bd-44fb-f8da-42587b1fb8db",
        "colab": {
          "base_uri": "https://localhost:8080/"
        }
      },
      "execution_count": null,
      "outputs": [
        {
          "output_type": "stream",
          "name": "stdout",
          "text": [
            "30\n",
            "[10, 20]\n"
          ]
        }
      ]
    },
    {
      "cell_type": "code",
      "source": [
        "# clear method\n",
        "\n",
        "l1 = [10,20,30]\n",
        "print(l1)\n",
        "l1.clear()\n",
        "print(l1)"
      ],
      "metadata": {
        "id": "5Bn0F3_AGAWa",
        "colab": {
          "base_uri": "https://localhost:8080/"
        },
        "outputId": "7a4a8e14-04df-4076-d1b9-deb5883b1204"
      },
      "execution_count": null,
      "outputs": [
        {
          "output_type": "stream",
          "name": "stdout",
          "text": [
            "[10, 20, 30]\n",
            "[]\n"
          ]
        }
      ]
    },
    {
      "cell_type": "code",
      "source": [
        "# progrm to remove duplicate elements\n",
        "\n",
        "l1= [10,20,30,10,20,45]\n",
        "ulist=[] # unique list\n",
        "\n",
        "for i in l1:\n",
        "  if i not in ulist:\n",
        "    ulist.append(i)\n",
        "\n",
        "\n",
        "print(l1)\n",
        "print(ulist)"
      ],
      "metadata": {
        "id": "628ISR6tGAl8",
        "colab": {
          "base_uri": "https://localhost:8080/"
        },
        "outputId": "4eaddbf8-c246-489b-c2be-578d19de3e37"
      },
      "execution_count": null,
      "outputs": [
        {
          "output_type": "stream",
          "name": "stdout",
          "text": [
            "[10, 20, 30, 10, 20, 45]\n",
            "[10, 20, 30, 45]\n"
          ]
        }
      ]
    },
    {
      "cell_type": "code",
      "source": [
        "# list() method\n",
        "\n",
        "l1 = list()\n",
        "print(l1)\n",
        "print(type(l1))\n",
        "s = \"NTT DATA\"\n",
        "l2 = list(s)\n",
        "print(l2)\n",
        "l3 = list(range(3,9))\n",
        "print(l3)"
      ],
      "metadata": {
        "id": "zbpNLisAGA0h",
        "colab": {
          "base_uri": "https://localhost:8080/"
        },
        "outputId": "75396ba8-9496-4f80-b926-691c7c7082d4"
      },
      "execution_count": null,
      "outputs": [
        {
          "output_type": "stream",
          "name": "stdout",
          "text": [
            "[]\n",
            "<class 'list'>\n",
            "['N', 'T', 'T', ' ', 'D', 'A', 'T', 'A']\n",
            "[3, 4, 5, 6, 7, 8]\n"
          ]
        }
      ]
    },
    {
      "cell_type": "code",
      "source": [
        "#day 7\n",
        "#occurence of charcter in list\n",
        "l1 = [10,2,3,6,8,10,2,2,2,6,8]\n",
        "l2=[]\n",
        "l3 = []\n",
        " for num in l1:\n",
        "  if num not in l2:\n",
        "    l2.append(num)\n",
        "    l3.appemd(l1.count(num))\n",
        "\n",
        "\n",
        "print(l2)\n",
        "print(l3)\n"
      ],
      "metadata": {
        "id": "U-M6LSqlGBC0",
        "outputId": "8d98214b-4066-4e5b-8eaa-7597cc4ed582",
        "colab": {
          "base_uri": "https://localhost:8080/"
        }
      },
      "execution_count": null,
      "outputs": [
        {
          "output_type": "stream",
          "name": "stdout",
          "text": [
            "[10, 2, 3, 6, 8]\n",
            "[2, 4, 1, 2, 2]\n"
          ]
        }
      ]
    },
    {
      "cell_type": "code",
      "source": [
        "#tuple()\n",
        "\n",
        "li='Ntt Data'\n",
        "l3=tuple(li)\n",
        "print(l3)"
      ],
      "metadata": {
        "id": "-BIQ1J3DKNm8",
        "outputId": "6febf6ca-fc22-4a5e-e136-68c89bdfccf1",
        "colab": {
          "base_uri": "https://localhost:8080/"
        }
      },
      "execution_count": null,
      "outputs": [
        {
          "output_type": "stream",
          "name": "stdout",
          "text": [
            "('N', 't', 't', ' ', 'D', 'a', 't', 'a')\n"
          ]
        }
      ]
    },
    {
      "cell_type": "code",
      "source": [
        "#tuple with single element\n",
        "l=(6)\n",
        "print(type(l))\n",
        "\n",
        "s=(7,)\n",
        "print(type(s))"
      ],
      "metadata": {
        "id": "sxJaqUiULLqz",
        "outputId": "bf19f962-6d5a-45b1-dd7b-b2e3e4e2ea41",
        "colab": {
          "base_uri": "https://localhost:8080/"
        }
      },
      "execution_count": null,
      "outputs": [
        {
          "output_type": "stream",
          "name": "stdout",
          "text": [
            "<class 'int'>\n",
            "<class 'tuple'>\n"
          ]
        }
      ]
    },
    {
      "cell_type": "code",
      "source": [
        "#tuple concatebation\n",
        "t1=(10,20,30)\n",
        "t2=(100,200,300)\n",
        "t3=t1+t2\n",
        "print(t3)"
      ],
      "metadata": {
        "id": "y9IknMEiL81R",
        "outputId": "f149e6ad-5a94-44cd-a378-d2560943276d",
        "colab": {
          "base_uri": "https://localhost:8080/"
        }
      },
      "execution_count": null,
      "outputs": [
        {
          "output_type": "stream",
          "name": "stdout",
          "text": [
            "(10, 20, 30, 100, 200, 300)\n"
          ]
        }
      ]
    },
    {
      "cell_type": "code",
      "source": [
        "t=(10,20)\n",
        "t3=t*3\n",
        "print(t3)"
      ],
      "metadata": {
        "id": "uYiiWtkkMGYt",
        "outputId": "17aa72d1-b251-4a9c-ab60-b47b4668ff01",
        "colab": {
          "base_uri": "https://localhost:8080/"
        }
      },
      "execution_count": null,
      "outputs": [
        {
          "output_type": "stream",
          "name": "stdout",
          "text": [
            "(10, 20, 10, 20, 10, 20)\n"
          ]
        }
      ]
    },
    {
      "cell_type": "code",
      "source": [
        "#iterating tuple\n",
        "\n",
        "t1=(10,20,20)\n",
        "for i in t1:\n",
        "  print(i)"
      ],
      "metadata": {
        "id": "BywnVRS0MbTB",
        "outputId": "5f026dc0-996e-4b68-ba03-bc3c3af95ae2",
        "colab": {
          "base_uri": "https://localhost:8080/"
        }
      },
      "execution_count": null,
      "outputs": [
        {
          "output_type": "stream",
          "name": "stdout",
          "text": [
            "10\n",
            "20\n",
            "20\n"
          ]
        }
      ]
    },
    {
      "cell_type": "code",
      "source": [
        "t1 = (1,2,3,4,3.1,[4,5,6],(7,7,8,))\n",
        "print(t1[4:])"
      ],
      "metadata": {
        "colab": {
          "base_uri": "https://localhost:8080/"
        },
        "id": "s8_2BvZdbGTf",
        "outputId": "6f0fd813-b402-4f73-cb00-bd2ff1481899"
      },
      "execution_count": null,
      "outputs": [
        {
          "output_type": "stream",
          "name": "stdout",
          "text": [
            "(3.1, [4, 5, 6], (7, 7, 8))\n"
          ]
        }
      ]
    },
    {
      "cell_type": "code",
      "source": [
        "# Dict\n",
        "\n",
        "d1 = {\"name\": \"Ram\", \"age\": 30 , \"city\": \"Blr\"}\n",
        "print(d1)\n",
        "print(type(d1))\n",
        "print(d1.keys())\n",
        "print(d1.values())\n",
        "\n",
        "print(d1.items())"
      ],
      "metadata": {
        "colab": {
          "base_uri": "https://localhost:8080/"
        },
        "id": "yuPxTftVbGff",
        "outputId": "088ee96c-431b-415d-9cc8-c3156245074a"
      },
      "execution_count": null,
      "outputs": [
        {
          "output_type": "stream",
          "name": "stdout",
          "text": [
            "{'name': 'Ram', 'age': 30, 'city': 'Blr'}\n",
            "<class 'dict'>\n",
            "dict_keys(['name', 'age', 'city'])\n",
            "dict_values(['Ram', 30, 'Blr'])\n",
            "dict_items([('name', 'Ram'), ('age', 30), ('city', 'Blr')])\n"
          ]
        }
      ]
    },
    {
      "cell_type": "code",
      "source": [],
      "metadata": {
        "id": "dOKoJgu1bGqw"
      },
      "execution_count": null,
      "outputs": []
    },
    {
      "cell_type": "code",
      "source": [],
      "metadata": {
        "id": "zSofvy41bG2W"
      },
      "execution_count": null,
      "outputs": []
    },
    {
      "cell_type": "code",
      "source": [
        "#dict\n",
        "\n",
        "d1={2:100,4:900,3:300}\n",
        "print(d1)\n",
        "print(type(d1))\n",
        "print(d1[2])\n",
        "print(d1[4])"
      ],
      "metadata": {
        "id": "OLpM4T0dMmjn",
        "colab": {
          "base_uri": "https://localhost:8080/"
        },
        "outputId": "a679b3dd-5a0f-4c27-a24a-bb4fdbdc0a6c"
      },
      "execution_count": null,
      "outputs": [
        {
          "output_type": "stream",
          "name": "stdout",
          "text": [
            "{2: 100, 4: 900, 3: 300}\n",
            "<class 'dict'>\n",
            "100\n",
            "900\n"
          ]
        }
      ]
    },
    {
      "cell_type": "code",
      "source": [
        "d2={'aa':100,'bb':200,'cc':300}\n",
        "print(d2)\n",
        "print(d2['aa'])"
      ],
      "metadata": {
        "colab": {
          "base_uri": "https://localhost:8080/"
        },
        "id": "Np35VFMccSqj",
        "outputId": "9d949707-6dd0-4a73-dc2d-a12d73920d12"
      },
      "execution_count": null,
      "outputs": [
        {
          "output_type": "stream",
          "name": "stdout",
          "text": [
            "{'aa': 100, 'bb': 200, 'cc': 300}\n",
            "100\n"
          ]
        }
      ]
    },
    {
      "cell_type": "code",
      "source": [
        "d3={1:[70,60,30],\n",
        "    2:(10,20,50),\n",
        "    6:'Ntt data'}\n",
        "print(d3)\n",
        "print(d3[1])\n",
        "print(d3[2])\n"
      ],
      "metadata": {
        "colab": {
          "base_uri": "https://localhost:8080/"
        },
        "id": "Z4difsx6cfX9",
        "outputId": "60abcfd1-9ad9-4570-bfea-616cf5c35d44"
      },
      "execution_count": null,
      "outputs": [
        {
          "output_type": "stream",
          "name": "stdout",
          "text": [
            "{1: [70, 60, 30], 2: (10, 20, 50), 6: 'Ntt data'}\n",
            "[70, 60, 30]\n",
            "(10, 20, 50)\n"
          ]
        }
      ]
    },
    {
      "cell_type": "code",
      "source": [
        "d4={(10,2):5,\n",
        "    (9,4):7}\n",
        "print(d4)\n",
        "print(d4[(10,2)])"
      ],
      "metadata": {
        "colab": {
          "base_uri": "https://localhost:8080/"
        },
        "id": "w-GDKCWsdTMB",
        "outputId": "757d9888-5789-4c32-c90a-b2e269cc6b61"
      },
      "execution_count": null,
      "outputs": [
        {
          "output_type": "stream",
          "name": "stdout",
          "text": [
            "{(10, 2): 5, (9, 4): 7}\n",
            "5\n"
          ]
        }
      ]
    },
    {
      "cell_type": "code",
      "source": [
        "#iterating throudg dict\n",
        "\n",
        "d1={10:2,8:4,9:2}\n",
        "\n",
        "for key1 in d1:\n",
        "  print(key1)"
      ],
      "metadata": {
        "colab": {
          "base_uri": "https://localhost:8080/"
        },
        "id": "6iXbhiBReqqg",
        "outputId": "89d2de91-031d-463b-e22f-6e909c7ea055"
      },
      "execution_count": null,
      "outputs": [
        {
          "output_type": "stream",
          "name": "stdout",
          "text": [
            "10\n",
            "8\n",
            "9\n"
          ]
        }
      ]
    },
    {
      "cell_type": "code",
      "source": [
        "#iterating through values\n",
        "d2={10:2,8:4,9:5}\n",
        "for value in d2.values():\n",
        "  print(value)"
      ],
      "metadata": {
        "colab": {
          "base_uri": "https://localhost:8080/"
        },
        "id": "B24OC7OZe3gP",
        "outputId": "7e7897f1-2446-47cd-fd68-b4e7459e9a55"
      },
      "execution_count": null,
      "outputs": [
        {
          "output_type": "stream",
          "name": "stdout",
          "text": [
            "2\n",
            "4\n",
            "5\n"
          ]
        }
      ]
    },
    {
      "cell_type": "code",
      "source": [
        "#key and value together in dic is called item\n",
        "\n",
        "d3={10:2,9:1,8:4}\n",
        "for item in d3.items():\n",
        "  print(item)\n",
        "\n",
        "####\n",
        "\n",
        "d={1:4,2:3}\n",
        "for k in d1:\n",
        "  print(d1[k])"
      ],
      "metadata": {
        "colab": {
          "base_uri": "https://localhost:8080/"
        },
        "id": "R5-9kri5ffF8",
        "outputId": "ed4484e2-edec-43ef-e5c7-10eafa86c317"
      },
      "execution_count": null,
      "outputs": [
        {
          "output_type": "stream",
          "name": "stdout",
          "text": [
            "(10, 2)\n",
            "(9, 1)\n",
            "(8, 4)\n",
            "2\n",
            "4\n",
            "2\n"
          ]
        }
      ]
    },
    {
      "cell_type": "code",
      "source": [
        "#membership\n",
        "d1={10:2,8:4,9:5}\n",
        "print(10 in d1)\n",
        "print(100 in d1)\n",
        "if 9 in d1:\n",
        "  print('9 is present')"
      ],
      "metadata": {
        "colab": {
          "base_uri": "https://localhost:8080/"
        },
        "id": "eorge-Nrhl43",
        "outputId": "cb490add-8d18-4afc-c2de-31ab17443354"
      },
      "execution_count": null,
      "outputs": [
        {
          "output_type": "stream",
          "name": "stdout",
          "text": [
            "True\n",
            "False\n",
            "9 is present\n"
          ]
        }
      ]
    },
    {
      "cell_type": "code",
      "source": [
        "#inbuilt\n",
        "#keys\n",
        "d1={10:2,8:4,9:5}\n",
        "keys=d1.keys()\n",
        "print(keys)\n",
        "print(type(keys))\n",
        "\n",
        "l1=list(keys)\n",
        "print(l1)\n",
        "print(type(l1))"
      ],
      "metadata": {
        "colab": {
          "base_uri": "https://localhost:8080/"
        },
        "id": "bBP1IaDoiP8c",
        "outputId": "042e3c77-84b8-442e-a4a0-89215da8c82a"
      },
      "execution_count": null,
      "outputs": [
        {
          "output_type": "stream",
          "name": "stdout",
          "text": [
            "dict_keys([10, 8, 9])\n",
            "<class 'dict_keys'>\n",
            "[10, 8, 9]\n",
            "<class 'list'>\n"
          ]
        }
      ]
    },
    {
      "cell_type": "code",
      "source": [
        "d1={10:2,8:4,9:5}\n",
        "val=d1.values();\n",
        "print(val)\n",
        "print(type(val))"
      ],
      "metadata": {
        "colab": {
          "base_uri": "https://localhost:8080/"
        },
        "id": "xSkC1fLjjKmL",
        "outputId": "d5fc1c9a-cba0-4b76-e968-527fc7456220"
      },
      "execution_count": null,
      "outputs": [
        {
          "output_type": "stream",
          "name": "stdout",
          "text": [
            "dict_values([2, 4, 5])\n",
            "<class 'dict_values'>\n"
          ]
        }
      ]
    },
    {
      "cell_type": "code",
      "source": [
        "d1={10:2,8:4,9:5}\n",
        "val=d1.items()\n",
        "print(val)\n",
        "print(type(val))"
      ],
      "metadata": {
        "colab": {
          "base_uri": "https://localhost:8080/"
        },
        "id": "5NM28rXsjenr",
        "outputId": "0202403f-9290-4890-d506-aefb82873878"
      },
      "execution_count": null,
      "outputs": [
        {
          "output_type": "stream",
          "name": "stdout",
          "text": [
            "dict_items([(10, 2), (8, 4), (9, 5)])\n",
            "<class 'dict_items'>\n"
          ]
        }
      ]
    },
    {
      "cell_type": "code",
      "source": [
        "#get\n",
        "d1={10:2,8:4,9:5}\n",
        "\n",
        "val=d1.get(10)\n",
        "print(val)\n",
        "val2=d1.get(2,999)#default value\n",
        "print(val2)"
      ],
      "metadata": {
        "colab": {
          "base_uri": "https://localhost:8080/"
        },
        "id": "mDlbuZa9jypc",
        "outputId": "18272542-efd6-40f5-9ef3-29fa579a4508"
      },
      "execution_count": null,
      "outputs": [
        {
          "output_type": "stream",
          "name": "stdout",
          "text": [
            "2\n",
            "999\n"
          ]
        }
      ]
    },
    {
      "cell_type": "code",
      "source": [
        "#pop\n",
        "d1={10:2,8:4,9:5}\n",
        "\n",
        "val=d1.pop(10)\n",
        "print(val)\n",
        "print(d1)\n",
        "d2={10:2,8:4,9:5}\n",
        "val2=d2.pop(3,1000)#1000 isdefault value\n",
        "print(val2)\n",
        "print(d2)\n",
        "\n"
      ],
      "metadata": {
        "colab": {
          "base_uri": "https://localhost:8080/"
        },
        "id": "TbE3RP4wku46",
        "outputId": "fcba6aaa-f094-4ea3-f551-56e82ae0b24d"
      },
      "execution_count": null,
      "outputs": [
        {
          "output_type": "stream",
          "name": "stdout",
          "text": [
            "2\n",
            "{8: 4, 9: 5}\n",
            "1000\n",
            "{10: 2, 8: 4, 9: 5}\n"
          ]
        }
      ]
    },
    {
      "cell_type": "code",
      "source": [
        "#update\n",
        "d1={1:2,3:4,5:6}\n",
        "d2={100:200,300:400,500:600}\n",
        "d1.update(d2)\n",
        "print(d1)\n",
        "\n",
        "d3={1:2,3:4,5:6}\n",
        "d3.update({100:20,300:10})\n",
        "print(d3)\n",
        "\n",
        "d3.update({1:100000,3:30000})\n",
        "print(d3)\n",
        "\n"
      ],
      "metadata": {
        "colab": {
          "base_uri": "https://localhost:8080/"
        },
        "id": "gWL2ZhP1lQte",
        "outputId": "a007d945-7ac2-41f0-9f08-d70d656017ea"
      },
      "execution_count": null,
      "outputs": [
        {
          "output_type": "stream",
          "name": "stdout",
          "text": [
            "{1: 2, 3: 4, 5: 6, 100: 200, 300: 400, 500: 600}\n",
            "{1: 2, 3: 4, 5: 6, 100: 20, 300: 10}\n",
            "{1: 100000, 3: 30000, 5: 6, 100: 20, 300: 10}\n"
          ]
        }
      ]
    },
    {
      "cell_type": "code",
      "source": [
        "#clear\n",
        "d1={1:2,3:4,5:6}\n",
        "print(d1)\n",
        "d1.clear()\n",
        "print(d1)"
      ],
      "metadata": {
        "colab": {
          "base_uri": "https://localhost:8080/"
        },
        "id": "AsdKwt6ynA0S",
        "outputId": "e50fe1b6-b4a3-4154-922f-9cb5dd91048d"
      },
      "execution_count": null,
      "outputs": [
        {
          "output_type": "stream",
          "name": "stdout",
          "text": [
            "{1: 2, 3: 4, 5: 6}\n",
            "{}\n"
          ]
        }
      ]
    },
    {
      "cell_type": "code",
      "source": [
        "#shallow copy\n",
        "d1 = {1:100,2:200,3:300}\n",
        "d2 = d1.copy()\n",
        "\n",
        "d3 = d1\n",
        "\n",
        "print(d1)\n",
        "print(d2)\n",
        "\n",
        "print(id(d1))\n",
        "print(id(d2))\n",
        "\n",
        "d1.update({4:400})\n",
        "\n",
        "print(d1)\n",
        "print(d2)\n",
        "print(d3)\n"
      ],
      "metadata": {
        "colab": {
          "base_uri": "https://localhost:8080/"
        },
        "id": "xIPu5ZO0njbN",
        "outputId": "eb62e67f-971e-440b-e633-4273c680d403"
      },
      "execution_count": null,
      "outputs": [
        {
          "output_type": "stream",
          "name": "stdout",
          "text": [
            "{1: 100, 2: 200, 3: 300}\n",
            "{1: 100, 2: 200, 3: 300}\n",
            "138013625242496\n",
            "138013625241728\n",
            "{1: 100, 2: 200, 3: 300, 4: 400}\n",
            "{1: 100, 2: 200, 3: 300}\n",
            "{1: 100, 2: 200, 3: 300, 4: 400}\n"
          ]
        }
      ]
    },
    {
      "cell_type": "code",
      "source": [
        "import copy\n",
        "d1={2:[1,2,3],4:[2,3,4],6:[2,4,5]}\n",
        "d2=copy.deepcopy(d1)\n",
        "print(d1)\n",
        "print(d1)\n",
        "print(d2)\n",
        "\n",
        "print(id(d1))\n",
        "print(id(d2))"
      ],
      "metadata": {
        "id": "NStRpg8HqHRL",
        "outputId": "82ee6cb0-8de3-4087-c23b-6897226b1e70",
        "colab": {
          "base_uri": "https://localhost:8080/"
        }
      },
      "execution_count": null,
      "outputs": [
        {
          "output_type": "stream",
          "name": "stdout",
          "text": [
            "{2: [1, 2, 3], 4: [2, 3, 4], 6: [2, 4, 5]}\n",
            "{2: [1, 2, 3], 4: [2, 3, 4], 6: [2, 4, 5]}\n",
            "{2: [1, 2, 3], 4: [2, 3, 4], 6: [2, 4, 5]}\n",
            "138013615279296\n",
            "138013612186112\n"
          ]
        }
      ]
    },
    {
      "cell_type": "code",
      "source": [
        "# fromkeys()\n",
        "keys=[1,2,3,4]\n",
        "d1=dict.fromkeys(keys,2000)\n",
        "print(d1)"
      ],
      "metadata": {
        "id": "N4PvASpHqlWc",
        "outputId": "ad4fa8f3-d6c1-4e97-e97f-92a7bbbf3ac7",
        "colab": {
          "base_uri": "https://localhost:8080/"
        }
      },
      "execution_count": null,
      "outputs": [
        {
          "output_type": "stream",
          "name": "stdout",
          "text": [
            "{1: 2000, 2: 2000, 3: 2000, 4: 2000}\n"
          ]
        }
      ]
    },
    {
      "cell_type": "code",
      "source": [
        "k={1,2,3,4}\n",
        "v ={10,20,30,40}\n",
        "d1=dict(zip(k,v))\n",
        "print(d1)"
      ],
      "metadata": {
        "id": "j_ZqvVYiq1Cm",
        "outputId": "7b8f7e57-45f1-4092-ff9f-fc671ddb50f3",
        "colab": {
          "base_uri": "https://localhost:8080/"
        }
      },
      "execution_count": null,
      "outputs": [
        {
          "output_type": "stream",
          "name": "stdout",
          "text": [
            "{1: 40, 2: 10, 3: 20, 4: 30}\n"
          ]
        }
      ]
    },
    {
      "cell_type": "code",
      "source": [
        "# Assignment\n",
        "s = \" I live in blr , blr is a garden city and beautiful city\"   # input\n",
        "l1=s.split()\n",
        "print(l1)\n",
        "d1={}\n",
        "for i in l1:\n",
        "  if i not in d1:\n",
        "    d1[i]=l1.count(i)\n",
        "\n",
        "print(d1)\n",
        "d1.pop('beautiful')\n",
        "print(d1)\n",
        "d1.pop('and')\n",
        "print(d1)\n",
        "\n",
        "\n",
        "\n",
        "\n",
        "S=###{'I':1 , 'live':1, 'in':2, 'blr':2, 'is':1, 'a':1, 'garden':1, 'city':2} # output"
      ],
      "metadata": {
        "colab": {
          "base_uri": "https://localhost:8080/"
        },
        "id": "8zyrvdw7rSXE",
        "outputId": "1612c452-1cff-4870-c7d1-9319f5966599"
      },
      "execution_count": 6,
      "outputs": [
        {
          "output_type": "stream",
          "name": "stdout",
          "text": [
            "['I', 'live', 'in', 'blr', ',', 'blr', 'is', 'a', 'garden', 'city', 'and', 'beautiful', 'city']\n",
            "{'I': 1, 'live': 1, 'in': 1, 'blr': 2, ',': 1, 'is': 1, 'a': 1, 'garden': 1, 'city': 2, 'and': 1, 'beautiful': 1}\n",
            "{'I': 1, 'live': 1, 'in': 1, 'blr': 2, ',': 1, 'is': 1, 'a': 1, 'garden': 1, 'city': 2, 'and': 1}\n",
            "{'I': 1, 'live': 1, 'in': 1, 'blr': 2, ',': 1, 'is': 1, 'a': 1, 'garden': 1, 'city': 2}\n"
          ]
        }
      ]
    },
    {
      "cell_type": "code",
      "source": [
        "l1=[100,200,300]\n",
        "l2=[]\n",
        "l2=l1\n",
        "print(l1)\n",
        "print(l2)\n",
        "print(id(l1))\n",
        "print(id(l2))"
      ],
      "metadata": {
        "colab": {
          "base_uri": "https://localhost:8080/"
        },
        "id": "0_X7zxGNz5Et",
        "outputId": "bc606dcf-2599-45b5-f9ce-5df6359e4b28"
      },
      "execution_count": 7,
      "outputs": [
        {
          "output_type": "stream",
          "name": "stdout",
          "text": [
            "[100, 200, 300]\n",
            "[100, 200, 300]\n",
            "135826139483648\n",
            "135826139483648\n"
          ]
        }
      ]
    },
    {
      "cell_type": "code",
      "source": [
        "#shallow copy\n",
        "import copy\n",
        "l1=[[1,2,3],[2,4,5],['a',4]]\n",
        "l2=[]\n",
        "print(id(l1))\n",
        "print(\"First element\",id(l1[0]))\n",
        "print(\"First element\",id(l1[1]))\n",
        "print(\"First element\",id(l1[2]))\n",
        "l2=copy.copy(l1)\n",
        "print(id(l2))\n",
        "print(\"First element\",id(l2[0]))\n",
        "print(\"First element\",id(l2[1]))\n",
        "print(\"First element\",id(l2[2]))\n"
      ],
      "metadata": {
        "colab": {
          "base_uri": "https://localhost:8080/"
        },
        "id": "fO3ugkL90I8u",
        "outputId": "9979d51c-7580-4818-c637-543a608f9824"
      },
      "execution_count": 10,
      "outputs": [
        {
          "output_type": "stream",
          "name": "stdout",
          "text": [
            "135826139839360\n",
            "First element 135826983348672\n",
            "First element 135826139827072\n",
            "First element 135826139486656\n",
            "135826139379584\n",
            "First element 135826983348672\n",
            "First element 135826139827072\n",
            "First element 135826139486656\n"
          ]
        }
      ]
    },
    {
      "cell_type": "code",
      "source": [
        "s={}\n",
        "print(type(s))"
      ],
      "metadata": {
        "colab": {
          "base_uri": "https://localhost:8080/"
        },
        "id": "ZsA4L5CQ8Qxf",
        "outputId": "abe607fd-b681-466a-c592-4b47172c4a44"
      },
      "execution_count": 11,
      "outputs": [
        {
          "output_type": "stream",
          "name": "stdout",
          "text": [
            "<class 'dict'>\n"
          ]
        }
      ]
    },
    {
      "cell_type": "code",
      "source": [
        "s=set()\n",
        "print(type(s))"
      ],
      "metadata": {
        "colab": {
          "base_uri": "https://localhost:8080/"
        },
        "id": "P4glQHr98V0H",
        "outputId": "aa497654-429a-4d6a-f71b-91e9a950b027"
      },
      "execution_count": 12,
      "outputs": [
        {
          "output_type": "stream",
          "name": "stdout",
          "text": [
            "<class 'set'>\n"
          ]
        }
      ]
    },
    {
      "cell_type": "code",
      "source": [
        "s1={10,20,30,'NTT',30.9,'aaa'}\n",
        "s1.add('1100')#single element\n",
        "print(s1)\n",
        "s1.update([100,300,200,'NTT'])#multiple elements\n",
        "print(s1)\n",
        "s1.remove('NTT')# remove methods throws if we are not passing the argument which is not there in the list\n",
        "print(s1)\n",
        "s1.discard('aaa')#discard will not throw if we are not passing the argument which is not there in the list\n",
        "print(s1)\n",
        "ele=s1.pop()\n",
        "print(ele)\n",
        "print(s1)\n",
        "s1.clear()\n",
        "print(s1)"
      ],
      "metadata": {
        "id": "zjIf-nMj8kpk",
        "outputId": "07db7a77-02a7-4ec5-9127-1cba1aea87b3",
        "colab": {
          "base_uri": "https://localhost:8080/"
        }
      },
      "execution_count": 20,
      "outputs": [
        {
          "output_type": "stream",
          "name": "stdout",
          "text": [
            "{'1100', 20, 30.9, 30, 10, 'aaa', 'NTT'}\n",
            "{'1100', 200, 10, 20, 30.9, 30, 'aaa', 100, 300, 'NTT'}\n",
            "{'1100', 200, 10, 20, 30.9, 30, 'aaa', 100, 300}\n",
            "{'1100', 200, 10, 20, 30.9, 30, 100, 300}\n",
            "1100\n",
            "{200, 10, 20, 30.9, 30, 100, 300}\n",
            "set()\n"
          ]
        }
      ]
    },
    {
      "cell_type": "code",
      "source": [
        "#union\n",
        "s1={1,2,3,4}\n",
        "s2={4,5,6,7}\n",
        "print(s1|s2)\n",
        "s3=s1.union(s2)\n",
        "print(s3)"
      ],
      "metadata": {
        "id": "frMrMsEJ-zH-",
        "outputId": "5b51a3d3-28f4-487c-eae2-a82c71fa8091",
        "colab": {
          "base_uri": "https://localhost:8080/"
        }
      },
      "execution_count": 22,
      "outputs": [
        {
          "output_type": "stream",
          "name": "stdout",
          "text": [
            "{1, 2, 3, 4, 5, 6, 7}\n",
            "{1, 2, 3, 4, 5, 6, 7}\n"
          ]
        }
      ]
    },
    {
      "cell_type": "code",
      "source": [
        "s1={1,2,3,4}\n",
        "s2={4,5,6,7}\n",
        "print(s1&s2)\n",
        "s3=s1.intersection(s2)\n",
        "print(s3)"
      ],
      "metadata": {
        "id": "GoOfW2Ss_cUy",
        "outputId": "f8833e44-4fa1-4f01-aad1-b270b6ac0a70",
        "colab": {
          "base_uri": "https://localhost:8080/"
        }
      },
      "execution_count": 23,
      "outputs": [
        {
          "output_type": "stream",
          "name": "stdout",
          "text": [
            "{4}\n",
            "{4}\n"
          ]
        }
      ]
    },
    {
      "cell_type": "code",
      "source": [
        "s1={1,2,3,4}\n",
        "s2={4,5,6,7}\n",
        "print(s1-s2)\n",
        "s3=s1.difference(s2)\n",
        "print(s3)"
      ],
      "metadata": {
        "id": "FvG3S7SQ_xbA",
        "outputId": "5ee96954-463f-4fd2-a741-9cf1a9531a2c",
        "colab": {
          "base_uri": "https://localhost:8080/"
        }
      },
      "execution_count": 25,
      "outputs": [
        {
          "output_type": "stream",
          "name": "stdout",
          "text": [
            "{1, 2, 3}\n",
            "{1, 2, 3}\n"
          ]
        }
      ]
    }
  ]
}