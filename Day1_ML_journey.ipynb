{
  "nbformat": 4,
  "nbformat_minor": 0,
  "metadata": {
    "colab": {
      "provenance": []
    },
    "kernelspec": {
      "name": "python3",
      "display_name": "Python 3"
    },
    "language_info": {
      "name": "python"
    }
  },
  "cells": [
    {
      "cell_type": "code",
      "execution_count": null,
      "metadata": {
        "colab": {
          "base_uri": "https://localhost:8080/"
        },
        "id": "HpmbKqI7jltH",
        "outputId": "0ec1bf68-5f68-4ec7-f746-ea081ec8cab5"
      },
      "outputs": [
        {
          "output_type": "stream",
          "name": "stdout",
          "text": [
            "hello world\n"
          ]
        }
      ],
      "source": [
        "print(\"hello world\")"
      ]
    },
    {
      "cell_type": "code",
      "source": [
        "print(\"ML!!!!!\")"
      ],
      "metadata": {
        "id": "34ZbDQBAxLWX",
        "outputId": "80df7098-5c3c-4d0b-a14f-7cbf795f4eb8",
        "colab": {
          "base_uri": "https://localhost:8080/"
        }
      },
      "execution_count": null,
      "outputs": [
        {
          "output_type": "stream",
          "name": "stdout",
          "text": [
            "ML!!!!!\n"
          ]
        }
      ]
    },
    {
      "cell_type": "code",
      "source": [
        "a=100\n",
        "print(id(a))"
      ],
      "metadata": {
        "id": "oDRy5EOQ65Db",
        "outputId": "5c024a2b-1cc5-434f-e717-cdd5bd73f62d",
        "colab": {
          "base_uri": "https://localhost:8080/"
        }
      },
      "execution_count": 1,
      "outputs": [
        {
          "output_type": "stream",
          "name": "stdout",
          "text": [
            "10754024\n"
          ]
        }
      ]
    },
    {
      "cell_type": "code",
      "source": [
        "a=100\n",
        "b=100\n",
        "print(a,b)\n",
        "c=20\n",
        "a=c\n",
        "a=print (a)\n",
        "\n"
      ],
      "metadata": {
        "id": "rhFqKvys7PAN",
        "outputId": "11cc7f8a-fb7c-4486-d359-08653378b743",
        "colab": {
          "base_uri": "https://localhost:8080/"
        }
      },
      "execution_count": 10,
      "outputs": [
        {
          "output_type": "stream",
          "name": "stdout",
          "text": [
            "100 100\n",
            "20\n"
          ]
        }
      ]
    },
    {
      "cell_type": "code",
      "source": [
        "b=100\n",
        "print(id(b))"
      ],
      "metadata": {
        "id": "T7RI_bAQqpts",
        "outputId": "95ea2f1a-4b76-41d9-85e7-9267c61e8399",
        "colab": {
          "base_uri": "https://localhost:8080/"
        }
      },
      "execution_count": 2,
      "outputs": [
        {
          "output_type": "stream",
          "name": "stdout",
          "text": [
            "10754024\n"
          ]
        }
      ]
    },
    {
      "cell_type": "code",
      "source": [
        "a=500\n",
        "print(id(a))"
      ],
      "metadata": {
        "id": "BjEMqyPZ7RZA",
        "outputId": "dfc21282-831e-4e53-9ac2-fecb836b414b",
        "colab": {
          "base_uri": "https://localhost:8080/"
        }
      },
      "execution_count": 3,
      "outputs": [
        {
          "output_type": "stream",
          "name": "stdout",
          "text": [
            "133524575191472\n"
          ]
        }
      ]
    },
    {
      "cell_type": "code",
      "source": [
        "b=a\n",
        "print(id(b))"
      ],
      "metadata": {
        "id": "Ai4-xUmo7W1Y",
        "outputId": "7f01f63c-87e5-4d6e-d7e7-edf4912f8453",
        "colab": {
          "base_uri": "https://localhost:8080/"
        }
      },
      "execution_count": 4,
      "outputs": [
        {
          "output_type": "stream",
          "name": "stdout",
          "text": [
            "133524575191472\n"
          ]
        }
      ]
    },
    {
      "cell_type": "code",
      "source": [
        "a,b,c=10,20,30\n",
        "print(a)\n",
        "print(a,b,c)"
      ],
      "metadata": {
        "id": "IWlQ5BKe7uzg",
        "outputId": "95a2223b-1d1d-4286-9f8b-b475bb3a9b23",
        "colab": {
          "base_uri": "https://localhost:8080/"
        }
      },
      "execution_count": 6,
      "outputs": [
        {
          "output_type": "stream",
          "name": "stdout",
          "text": [
            "10\n",
            "10 20 30\n"
          ]
        }
      ]
    },
    {
      "cell_type": "code",
      "source": [
        "a=b=c=10\n",
        "print(a,b,c)"
      ],
      "metadata": {
        "id": "Ejw50XXH7-zW",
        "outputId": "4c5c7839-1fc0-49dd-e286-ec8eb374a440",
        "colab": {
          "base_uri": "https://localhost:8080/"
        }
      },
      "execution_count": 7,
      "outputs": [
        {
          "output_type": "stream",
          "name": "stdout",
          "text": [
            "10 10 10\n"
          ]
        }
      ]
    },
    {
      "cell_type": "code",
      "source": [
        "import keyword as ky\n",
        "print(ky.kwlist) #It will list all the keywords in python"
      ],
      "metadata": {
        "id": "BGS8gJEa80Je",
        "outputId": "af4a60b4-09cc-4ed1-de88-c93b48c65ebc",
        "colab": {
          "base_uri": "https://localhost:8080/"
        }
      },
      "execution_count": 8,
      "outputs": [
        {
          "output_type": "stream",
          "name": "stdout",
          "text": [
            "['False', 'None', 'True', 'and', 'as', 'assert', 'async', 'await', 'break', 'class', 'continue', 'def', 'del', 'elif', 'else', 'except', 'finally', 'for', 'from', 'global', 'if', 'import', 'in', 'is', 'lambda', 'nonlocal', 'not', 'or', 'pass', 'raise', 'return', 'try', 'while', 'with', 'yield']\n"
          ]
        }
      ]
    },
    {
      "cell_type": "code",
      "source": [
        "#multiline comment\n",
        "\"\"\" aaaa\n",
        "dddd\n",
        "dddd\"\"\"\n",
        "a=100\n",
        "print('Adhya Please concentrate!!!')"
      ],
      "metadata": {
        "id": "mAVOAaWI-9YR",
        "outputId": "542dff97-8f78-4192-b088-e2c6b0e95c48",
        "colab": {
          "base_uri": "https://localhost:8080/"
        }
      },
      "execution_count": 14,
      "outputs": [
        {
          "output_type": "stream",
          "name": "stdout",
          "text": [
            "Adhya Please concentrate!!!\n"
          ]
        }
      ]
    },
    {
      "cell_type": "code",
      "source": [
        "\n",
        "p='NTT'\n",
        "print (p)\n",
        "a=\"Data\"\n",
        "print(p,a)\n"
      ],
      "metadata": {
        "id": "roSDoyciIjj4",
        "outputId": "bd77a32f-be5b-48c1-d054-54309c507b15",
        "colab": {
          "base_uri": "https://localhost:8080/"
        }
      },
      "execution_count": 15,
      "outputs": [
        {
          "output_type": "stream",
          "name": "stdout",
          "text": [
            "NTT\n",
            "NTT Data\n"
          ]
        }
      ]
    },
    {
      "cell_type": "code",
      "source": [
        "#multine line string\n",
        "p=\"\"\"aaaa\n",
        "bbb\n",
        "ccc\n",
        "ddd \"\"\"\n",
        "print (p)"
      ],
      "metadata": {
        "id": "n4GQMZnYJufv",
        "outputId": "a178064f-bb7b-4be4-f8e0-194c2d1a355b",
        "colab": {
          "base_uri": "https://localhost:8080/"
        }
      },
      "execution_count": 16,
      "outputs": [
        {
          "output_type": "stream",
          "name": "stdout",
          "text": [
            "aaaa\n",
            "bbb\n",
            "ccc\n",
            "ddd \n"
          ]
        }
      ]
    },
    {
      "cell_type": "code",
      "source": [
        "p=\"NTT Data\"\n",
        "print(p[0])\n",
        "print(p[-1])"
      ],
      "metadata": {
        "id": "xPW2iRUZKXfP",
        "outputId": "ad25f7b2-5558-49a8-e92a-6af060763eaa",
        "colab": {
          "base_uri": "https://localhost:8080/"
        }
      },
      "execution_count": 18,
      "outputs": [
        {
          "output_type": "stream",
          "name": "stdout",
          "text": [
            "N\n",
            "a\n"
          ]
        }
      ]
    },
    {
      "cell_type": "code",
      "source": [
        "p=\"NTT Data\"\n",
        "print(p[0])\n"
      ],
      "metadata": {
        "id": "KLFXZDrOQbXm",
        "outputId": "6f02c980-45cf-4d31-bd64-fea32162fad4",
        "colab": {
          "base_uri": "https://localhost:8080/"
        }
      },
      "execution_count": 21,
      "outputs": [
        {
          "output_type": "stream",
          "name": "stdout",
          "text": [
            "N\n"
          ]
        }
      ]
    }
  ]
}