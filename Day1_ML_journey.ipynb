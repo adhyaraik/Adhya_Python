{
  "nbformat": 4,
  "nbformat_minor": 0,
  "metadata": {
    "colab": {
      "provenance": []
    },
    "kernelspec": {
      "name": "python3",
      "display_name": "Python 3"
    },
    "language_info": {
      "name": "python"
    }
  },
  "cells": [
    {
      "cell_type": "code",
      "execution_count": null,
      "metadata": {
        "colab": {
          "base_uri": "https://localhost:8080/"
        },
        "id": "HpmbKqI7jltH",
        "outputId": "0ec1bf68-5f68-4ec7-f746-ea081ec8cab5"
      },
      "outputs": [
        {
          "output_type": "stream",
          "name": "stdout",
          "text": [
            "hello world\n"
          ]
        }
      ],
      "source": [
        "print(\"hello world\")"
      ]
    },
    {
      "cell_type": "code",
      "source": [
        "print(\"ML!!!!!\")"
      ],
      "metadata": {
        "id": "34ZbDQBAxLWX",
        "outputId": "80df7098-5c3c-4d0b-a14f-7cbf795f4eb8",
        "colab": {
          "base_uri": "https://localhost:8080/"
        }
      },
      "execution_count": null,
      "outputs": [
        {
          "output_type": "stream",
          "name": "stdout",
          "text": [
            "ML!!!!!\n"
          ]
        }
      ]
    },
    {
      "cell_type": "code",
      "source": [
        "a=100\n",
        "print(id(a))"
      ],
      "metadata": {
        "id": "oDRy5EOQ65Db",
        "outputId": "5c024a2b-1cc5-434f-e717-cdd5bd73f62d",
        "colab": {
          "base_uri": "https://localhost:8080/"
        }
      },
      "execution_count": null,
      "outputs": [
        {
          "output_type": "stream",
          "name": "stdout",
          "text": [
            "10754024\n"
          ]
        }
      ]
    },
    {
      "cell_type": "code",
      "source": [
        "a=100\n",
        "b=100\n",
        "print(a,b)\n",
        "c=20\n",
        "a=c\n",
        "a=print (a)\n",
        "\n"
      ],
      "metadata": {
        "id": "rhFqKvys7PAN",
        "outputId": "11cc7f8a-fb7c-4486-d359-08653378b743",
        "colab": {
          "base_uri": "https://localhost:8080/"
        }
      },
      "execution_count": null,
      "outputs": [
        {
          "output_type": "stream",
          "name": "stdout",
          "text": [
            "100 100\n",
            "20\n"
          ]
        }
      ]
    },
    {
      "cell_type": "code",
      "source": [
        "b=100\n",
        "print(id(b))"
      ],
      "metadata": {
        "id": "T7RI_bAQqpts",
        "outputId": "95ea2f1a-4b76-41d9-85e7-9267c61e8399",
        "colab": {
          "base_uri": "https://localhost:8080/"
        }
      },
      "execution_count": null,
      "outputs": [
        {
          "output_type": "stream",
          "name": "stdout",
          "text": [
            "10754024\n"
          ]
        }
      ]
    },
    {
      "cell_type": "code",
      "source": [
        "a=500\n",
        "print(id(a))"
      ],
      "metadata": {
        "id": "BjEMqyPZ7RZA",
        "outputId": "dfc21282-831e-4e53-9ac2-fecb836b414b",
        "colab": {
          "base_uri": "https://localhost:8080/"
        }
      },
      "execution_count": null,
      "outputs": [
        {
          "output_type": "stream",
          "name": "stdout",
          "text": [
            "133524575191472\n"
          ]
        }
      ]
    },
    {
      "cell_type": "code",
      "source": [
        "b=a\n",
        "print(id(b))"
      ],
      "metadata": {
        "id": "Ai4-xUmo7W1Y",
        "outputId": "7f01f63c-87e5-4d6e-d7e7-edf4912f8453",
        "colab": {
          "base_uri": "https://localhost:8080/"
        }
      },
      "execution_count": null,
      "outputs": [
        {
          "output_type": "stream",
          "name": "stdout",
          "text": [
            "133524575191472\n"
          ]
        }
      ]
    },
    {
      "cell_type": "code",
      "source": [
        "a,b,c=10,20,30\n",
        "print(a)\n",
        "print(a,b,c)"
      ],
      "metadata": {
        "id": "IWlQ5BKe7uzg",
        "outputId": "95a2223b-1d1d-4286-9f8b-b475bb3a9b23",
        "colab": {
          "base_uri": "https://localhost:8080/"
        }
      },
      "execution_count": null,
      "outputs": [
        {
          "output_type": "stream",
          "name": "stdout",
          "text": [
            "10\n",
            "10 20 30\n"
          ]
        }
      ]
    },
    {
      "cell_type": "code",
      "source": [
        "a=b=c=10\n",
        "print(a,b,c)"
      ],
      "metadata": {
        "id": "Ejw50XXH7-zW",
        "outputId": "4c5c7839-1fc0-49dd-e286-ec8eb374a440",
        "colab": {
          "base_uri": "https://localhost:8080/"
        }
      },
      "execution_count": null,
      "outputs": [
        {
          "output_type": "stream",
          "name": "stdout",
          "text": [
            "10 10 10\n"
          ]
        }
      ]
    },
    {
      "cell_type": "code",
      "source": [
        "import keyword as ky\n",
        "print(ky.kwlist) #It will list all the keywords in python"
      ],
      "metadata": {
        "id": "BGS8gJEa80Je",
        "outputId": "af4a60b4-09cc-4ed1-de88-c93b48c65ebc",
        "colab": {
          "base_uri": "https://localhost:8080/"
        }
      },
      "execution_count": null,
      "outputs": [
        {
          "output_type": "stream",
          "name": "stdout",
          "text": [
            "['False', 'None', 'True', 'and', 'as', 'assert', 'async', 'await', 'break', 'class', 'continue', 'def', 'del', 'elif', 'else', 'except', 'finally', 'for', 'from', 'global', 'if', 'import', 'in', 'is', 'lambda', 'nonlocal', 'not', 'or', 'pass', 'raise', 'return', 'try', 'while', 'with', 'yield']\n"
          ]
        }
      ]
    },
    {
      "cell_type": "code",
      "source": [
        "#multiline comment\n",
        "\"\"\" aaaa\n",
        "dddd\n",
        "dddd\"\"\"\n",
        "a=100\n",
        "print('Adhya Please concentrate!!!')"
      ],
      "metadata": {
        "id": "mAVOAaWI-9YR",
        "outputId": "542dff97-8f78-4192-b088-e2c6b0e95c48",
        "colab": {
          "base_uri": "https://localhost:8080/"
        }
      },
      "execution_count": null,
      "outputs": [
        {
          "output_type": "stream",
          "name": "stdout",
          "text": [
            "Adhya Please concentrate!!!\n"
          ]
        }
      ]
    },
    {
      "cell_type": "code",
      "source": [
        "\n",
        "p='NTT'\n",
        "print (p)\n",
        "a=\"Data\"\n",
        "print(p,a)\n"
      ],
      "metadata": {
        "id": "roSDoyciIjj4",
        "outputId": "bd77a32f-be5b-48c1-d054-54309c507b15",
        "colab": {
          "base_uri": "https://localhost:8080/"
        }
      },
      "execution_count": null,
      "outputs": [
        {
          "output_type": "stream",
          "name": "stdout",
          "text": [
            "NTT\n",
            "NTT Data\n"
          ]
        }
      ]
    },
    {
      "cell_type": "code",
      "source": [
        "#multine line string\n",
        "p=\"\"\"aaaa\n",
        "bbb\n",
        "ccc\n",
        "ddd \"\"\"\n",
        "print (p)"
      ],
      "metadata": {
        "id": "n4GQMZnYJufv",
        "outputId": "a178064f-bb7b-4be4-f8e0-194c2d1a355b",
        "colab": {
          "base_uri": "https://localhost:8080/"
        }
      },
      "execution_count": null,
      "outputs": [
        {
          "output_type": "stream",
          "name": "stdout",
          "text": [
            "aaaa\n",
            "bbb\n",
            "ccc\n",
            "ddd \n"
          ]
        }
      ]
    },
    {
      "cell_type": "code",
      "source": [
        "p=\"NTT Data\"\n",
        "print(p[0])\n",
        "print(p[-1])"
      ],
      "metadata": {
        "id": "xPW2iRUZKXfP",
        "outputId": "ad25f7b2-5558-49a8-e92a-6af060763eaa",
        "colab": {
          "base_uri": "https://localhost:8080/"
        }
      },
      "execution_count": null,
      "outputs": [
        {
          "output_type": "stream",
          "name": "stdout",
          "text": [
            "N\n",
            "a\n"
          ]
        }
      ]
    },
    {
      "cell_type": "code",
      "source": [
        "p=\"NTT Data\"\n",
        "print(p[0])\n"
      ],
      "metadata": {
        "id": "KLFXZDrOQbXm",
        "outputId": "6f02c980-45cf-4d31-bd64-fea32162fad4",
        "colab": {
          "base_uri": "https://localhost:8080/"
        }
      },
      "execution_count": null,
      "outputs": [
        {
          "output_type": "stream",
          "name": "stdout",
          "text": [
            "N\n"
          ]
        }
      ]
    },
    {
      "cell_type": "code",
      "source": [
        "# simple  If startement\n",
        "\n",
        "if 10>15:\n",
        "\n",
        "  print(\"start of if\")\n",
        "  print(\"10 is greater\")\n",
        "  print(\"end of if\")\n",
        "  print(\"HI\")\n",
        "\n",
        "\n",
        "print(\"end of program\")"
      ],
      "metadata": {
        "colab": {
          "base_uri": "https://localhost:8080/"
        },
        "id": "8DXZ2A3m8zrJ",
        "outputId": "f98ec689-c1f9-418a-aed4-898a018e3e73"
      },
      "execution_count": 1,
      "outputs": [
        {
          "output_type": "stream",
          "name": "stdout",
          "text": [
            "end of program\n"
          ]
        }
      ]
    },
    {
      "cell_type": "code",
      "source": [
        "# input function\n",
        "\n",
        "a = input(\"Enter a value\") # input fn reatuns all the values in string format\n",
        "print(a)\n",
        "print(type(a))\n"
      ],
      "metadata": {
        "colab": {
          "base_uri": "https://localhost:8080/"
        },
        "id": "We8OlwkW9P-x",
        "outputId": "d2245316-422c-412f-eb4c-eaa8a1caa894"
      },
      "execution_count": 2,
      "outputs": [
        {
          "output_type": "stream",
          "name": "stdout",
          "text": [
            "Enter a value10\n",
            "10\n",
            "<class 'str'>\n"
          ]
        }
      ]
    },
    {
      "cell_type": "code",
      "source": [
        "# input function with type casting\n",
        "\n",
        "a = int(input(\"Enter a value\")) # input fn reatuns all the values in string format\n",
        "print(a)\n",
        "print(type(a))"
      ],
      "metadata": {
        "colab": {
          "base_uri": "https://localhost:8080/"
        },
        "id": "qWQirfCE9TDx",
        "outputId": "74534cf6-6c1b-4593-d6bc-e5a8e921cc3c"
      },
      "execution_count": 3,
      "outputs": [
        {
          "output_type": "stream",
          "name": "stdout",
          "text": [
            "Enter a value8\n",
            "8\n",
            "<class 'int'>\n"
          ]
        }
      ]
    },
    {
      "cell_type": "code",
      "source": [
        "# if else statement\n",
        "\n",
        "a = int(input(\"Enter a value\"))\n",
        "b = int(input(\"Enter b value\"))\n",
        "\n",
        "if a>b:\n",
        "  print(\"a is greater\")\n",
        "  print(\"if block\")\n",
        "else:\n",
        "  print(\"b is greater\")\n",
        "  print(\"else block\")"
      ],
      "metadata": {
        "colab": {
          "base_uri": "https://localhost:8080/"
        },
        "id": "ZQwauGjq9Klo",
        "outputId": "61a6491c-a39a-47b7-92eb-716fe0156e4d"
      },
      "execution_count": 4,
      "outputs": [
        {
          "output_type": "stream",
          "name": "stdout",
          "text": [
            "Enter a value6\n",
            "Enter b value9\n",
            "b is greater\n",
            "else block\n"
          ]
        }
      ]
    },
    {
      "cell_type": "code",
      "source": [
        "# if else ladder\n",
        "\n",
        "s = input(\"enetr a color\")\n",
        "\n",
        "if s == \"red\":\n",
        "  print(\"stop\")\n",
        "elif s == \"yellow\":\n",
        "  print(\"ready\")\n",
        "elif s == \"green\":\n",
        "  print(\"go\")\n",
        "else:\n",
        "  print(\"invalid color\")"
      ],
      "metadata": {
        "colab": {
          "base_uri": "https://localhost:8080/"
        },
        "id": "Jp1bpCd89dqk",
        "outputId": "6844154b-921a-4d58-b101-a62dca376fb7"
      },
      "execution_count": 5,
      "outputs": [
        {
          "output_type": "stream",
          "name": "stdout",
          "text": [
            "enetr a colorred\n",
            "stop\n"
          ]
        }
      ]
    },
    {
      "cell_type": "code",
      "source": [
        "text = input(\"enter a string\")  # program to check the palindrome\n",
        "text = text.lower()\n",
        "\n",
        "revtext = text[::-1]\n",
        "\n",
        "if text == revtext:\n",
        "  print(\"Palindrome\")\n",
        "else:\n",
        "  print(\"Not Palindrome\")"
      ],
      "metadata": {
        "colab": {
          "base_uri": "https://localhost:8080/"
        },
        "id": "PEBbW7PY9iKL",
        "outputId": "01acd7f0-ecea-44fc-a247-73347ab89830"
      },
      "execution_count": 6,
      "outputs": [
        {
          "output_type": "stream",
          "name": "stdout",
          "text": [
            "enter a stringmaam\n",
            "Palindrome\n"
          ]
        }
      ]
    },
    {
      "cell_type": "code",
      "source": [
        "# while loop\n",
        "\n",
        "i=10\n",
        "\n",
        "while i<15 :\n",
        "  print(i)\n",
        "  i=i+1\n",
        "\n",
        "print(\"end of while\")\n"
      ],
      "metadata": {
        "colab": {
          "base_uri": "https://localhost:8080/"
        },
        "id": "khJxviTQ9nbq",
        "outputId": "a2026cab-d18e-4c9f-af03-d3f097019347"
      },
      "execution_count": 7,
      "outputs": [
        {
          "output_type": "stream",
          "name": "stdout",
          "text": [
            "10\n",
            "11\n",
            "12\n",
            "13\n",
            "14\n",
            "end of while\n"
          ]
        }
      ]
    },
    {
      "cell_type": "code",
      "source": [
        "# Multiplication Table\n",
        "\n",
        "num = int(input(\"Enter a number\"))\n",
        "\n",
        "i=1\n",
        "\n",
        "while i<=10:\n",
        "  print(num , \"*\" , i , \"=\" ,i*num)\n",
        "  i=i+1"
      ],
      "metadata": {
        "colab": {
          "base_uri": "https://localhost:8080/"
        },
        "id": "UAJEXIPE9q3_",
        "outputId": "3f676a36-7003-42c8-a685-67cea5fb4428"
      },
      "execution_count": 8,
      "outputs": [
        {
          "output_type": "stream",
          "name": "stdout",
          "text": [
            "Enter a number5\n",
            "5 * 1 = 5\n",
            "5 * 2 = 10\n",
            "5 * 3 = 15\n",
            "5 * 4 = 20\n",
            "5 * 5 = 25\n",
            "5 * 6 = 30\n",
            "5 * 7 = 35\n",
            "5 * 8 = 40\n",
            "5 * 9 = 45\n",
            "5 * 10 = 50\n"
          ]
        }
      ]
    },
    {
      "cell_type": "code",
      "source": [
        "# For loop\n",
        "\n",
        "s = \"2025John\"\n",
        "\n",
        "for i in s:\n",
        "  print(i)\n",
        "  print(type(i))"
      ],
      "metadata": {
        "colab": {
          "base_uri": "https://localhost:8080/"
        },
        "id": "xmcV8UDE9u_n",
        "outputId": "60437c1b-c5c7-49d3-a7f8-2272db0e2b36"
      },
      "execution_count": 9,
      "outputs": [
        {
          "output_type": "stream",
          "name": "stdout",
          "text": [
            "2\n",
            "<class 'str'>\n",
            "0\n",
            "<class 'str'>\n",
            "2\n",
            "<class 'str'>\n",
            "5\n",
            "<class 'str'>\n",
            "J\n",
            "<class 'str'>\n",
            "o\n",
            "<class 'str'>\n",
            "h\n",
            "<class 'str'>\n",
            "n\n",
            "<class 'str'>\n"
          ]
        }
      ]
    },
    {
      "cell_type": "code",
      "source": [
        "#range function\n",
        "\n",
        "for i in range(0,11,1):\n",
        "  print(i)"
      ],
      "metadata": {
        "id": "T9Ip7MJc-rX4",
        "outputId": "988a2d3b-df36-4786-8750-c48556b08c1f",
        "colab": {
          "base_uri": "https://localhost:8080/"
        }
      },
      "execution_count": 10,
      "outputs": [
        {
          "output_type": "stream",
          "name": "stdout",
          "text": [
            "0\n",
            "1\n",
            "2\n",
            "3\n",
            "4\n",
            "5\n",
            "6\n",
            "7\n",
            "8\n",
            "9\n",
            "10\n"
          ]
        }
      ]
    },
    {
      "cell_type": "code",
      "source": [
        "for i in range(0,11,2):\n",
        "  print(i)"
      ],
      "metadata": {
        "id": "yV_FWND8-2og",
        "outputId": "725fa8ee-15b2-4377-83b3-42eba60e61f2",
        "colab": {
          "base_uri": "https://localhost:8080/"
        }
      },
      "execution_count": 11,
      "outputs": [
        {
          "output_type": "stream",
          "name": "stdout",
          "text": [
            "0\n",
            "2\n",
            "4\n",
            "6\n",
            "8\n",
            "10\n"
          ]
        }
      ]
    },
    {
      "cell_type": "code",
      "source": [
        "str1='Adhya'\n",
        "str2='Rai'\n",
        "str3=str1+str2\n",
        "print(str3)\n",
        "str4=str2*4\n",
        "print(str4)"
      ],
      "metadata": {
        "id": "_F5I8hIyADpT",
        "outputId": "16b1d192-01fb-4b3b-c92e-d1354d12fa40",
        "colab": {
          "base_uri": "https://localhost:8080/"
        }
      },
      "execution_count": 12,
      "outputs": [
        {
          "output_type": "stream",
          "name": "stdout",
          "text": [
            "AdhyaRai\n",
            "RaiRaiRaiRai\n"
          ]
        }
      ]
    },
    {
      "cell_type": "code",
      "source": [
        "St1='Adhya'\n",
        "St1[1]='D'\n",
        "print(St1) #string is immutable"
      ],
      "metadata": {
        "id": "XOIGBHlqBEJs",
        "outputId": "328ab027-354b-406f-b53c-e10f434c6865",
        "colab": {
          "base_uri": "https://localhost:8080/",
          "height": 176
        }
      },
      "execution_count": 13,
      "outputs": [
        {
          "output_type": "error",
          "ename": "TypeError",
          "evalue": "'str' object does not support item assignment",
          "traceback": [
            "\u001b[0;31m---------------------------------------------------------------------------\u001b[0m",
            "\u001b[0;31mTypeError\u001b[0m                                 Traceback (most recent call last)",
            "\u001b[0;32m<ipython-input-13-a24461edff22>\u001b[0m in \u001b[0;36m<cell line: 0>\u001b[0;34m()\u001b[0m\n\u001b[1;32m      1\u001b[0m \u001b[0mSt1\u001b[0m\u001b[0;34m=\u001b[0m\u001b[0;34m'Adhya'\u001b[0m\u001b[0;34m\u001b[0m\u001b[0;34m\u001b[0m\u001b[0m\n\u001b[0;32m----> 2\u001b[0;31m \u001b[0mSt1\u001b[0m\u001b[0;34m[\u001b[0m\u001b[0;36m1\u001b[0m\u001b[0;34m]\u001b[0m\u001b[0;34m=\u001b[0m\u001b[0;34m'D'\u001b[0m\u001b[0;34m\u001b[0m\u001b[0;34m\u001b[0m\u001b[0m\n\u001b[0m\u001b[1;32m      3\u001b[0m \u001b[0mprint\u001b[0m\u001b[0;34m(\u001b[0m\u001b[0mSt1\u001b[0m\u001b[0;34m)\u001b[0m\u001b[0;34m\u001b[0m\u001b[0;34m\u001b[0m\u001b[0m\n",
            "\u001b[0;31mTypeError\u001b[0m: 'str' object does not support item assignment"
          ]
        }
      ]
    },
    {
      "cell_type": "code",
      "source": [
        "S='Adhya'\n",
        "del(S)\n",
        "print(S)"
      ],
      "metadata": {
        "id": "s_HwmJfcBQ1s",
        "outputId": "218b8478-faec-47b6-89e8-72104afb960d",
        "colab": {
          "base_uri": "https://localhost:8080/",
          "height": 176
        }
      },
      "execution_count": 14,
      "outputs": [
        {
          "output_type": "error",
          "ename": "NameError",
          "evalue": "name 'S' is not defined",
          "traceback": [
            "\u001b[0;31m---------------------------------------------------------------------------\u001b[0m",
            "\u001b[0;31mNameError\u001b[0m                                 Traceback (most recent call last)",
            "\u001b[0;32m<ipython-input-14-3242670a26aa>\u001b[0m in \u001b[0;36m<cell line: 0>\u001b[0;34m()\u001b[0m\n\u001b[1;32m      1\u001b[0m \u001b[0mS\u001b[0m\u001b[0;34m=\u001b[0m\u001b[0;34m'Adhya'\u001b[0m\u001b[0;34m\u001b[0m\u001b[0;34m\u001b[0m\u001b[0m\n\u001b[1;32m      2\u001b[0m \u001b[0;32mdel\u001b[0m\u001b[0;34m(\u001b[0m\u001b[0mS\u001b[0m\u001b[0;34m)\u001b[0m\u001b[0;34m\u001b[0m\u001b[0;34m\u001b[0m\u001b[0m\n\u001b[0;32m----> 3\u001b[0;31m \u001b[0mprint\u001b[0m\u001b[0;34m(\u001b[0m\u001b[0mS\u001b[0m\u001b[0;34m)\u001b[0m\u001b[0;34m\u001b[0m\u001b[0;34m\u001b[0m\u001b[0m\n\u001b[0m",
            "\u001b[0;31mNameError\u001b[0m: name 'S' is not defined"
          ]
        }
      ]
    },
    {
      "cell_type": "code",
      "source": [
        "#length of the string\n",
        "s='Adhya'\n",
        "c=0\n",
        "for i in s:\n",
        "  c+=1\n",
        "print('length of the string',c)\n",
        "#using length function\n",
        "p='Rai'\n",
        "print('Length of the second string ',len(p))\n",
        "\n"
      ],
      "metadata": {
        "id": "GYznD7-aBtwZ",
        "outputId": "1102b1c1-9f44-4b96-a45d-e77246cf1451",
        "colab": {
          "base_uri": "https://localhost:8080/"
        }
      },
      "execution_count": 17,
      "outputs": [
        {
          "output_type": "stream",
          "name": "stdout",
          "text": [
            "length of the string 5\n",
            "Length of the second string  3\n"
          ]
        }
      ]
    },
    {
      "cell_type": "code",
      "source": [
        "#membership operator\n",
        "s='appple'\n",
        "if 'e' in s:\n",
        "  print('e is present')\n",
        "else:\n",
        "  print('e is not present')"
      ],
      "metadata": {
        "id": "F6J6ItjjCkhq",
        "outputId": "a5634f04-ba7c-42ef-a871-d161ee4a82e9",
        "colab": {
          "base_uri": "https://localhost:8080/"
        }
      },
      "execution_count": 18,
      "outputs": [
        {
          "output_type": "stream",
          "name": "stdout",
          "text": [
            "e is present\n"
          ]
        }
      ]
    },
    {
      "cell_type": "code",
      "source": [
        "#count\n",
        "main_string=input('Enter main string')\n",
        "sub_string=input('enter substring')\n",
        "c=main_string.count(sub_string)\n",
        "print(c)\n",
        "d=main_string.count(sub_string,0,15)\n",
        "print(d)"
      ],
      "metadata": {
        "id": "M4_PZnqKD1Uj",
        "outputId": "89724be4-2a5d-49ab-e21d-89d2e0febc10",
        "colab": {
          "base_uri": "https://localhost:8080/"
        }
      },
      "execution_count": 22,
      "outputs": [
        {
          "output_type": "stream",
          "name": "stdout",
          "text": [
            "Enter main stringAdhya is the good girl\n",
            "enter substringg\n",
            "2\n",
            "1\n"
          ]
        }
      ]
    },
    {
      "cell_type": "code",
      "source": [],
      "metadata": {
        "id": "WECyJrNwE_B5"
      },
      "execution_count": null,
      "outputs": []
    }
  ]
}